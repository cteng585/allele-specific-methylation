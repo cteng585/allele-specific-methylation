{
 "cells": [
  {
   "cell_type": "code",
   "execution_count": 20,
   "metadata": {},
   "outputs": [],
   "source": [
    "import csv\n",
    "import re\n",
    "import subprocess\n",
    "from enum import Enum\n",
    "from pathlib import Path\n",
    "\n",
    "import polars as pl\n",
    "from polars import selectors as cs"
   ]
  },
  {
   "cell_type": "code",
   "execution_count": 21,
   "metadata": {},
   "outputs": [],
   "source": [
    "import vcf_processing.models as models\n",
    "import vcf_processing.preprocessing as pp"
   ]
  },
  {
   "cell_type": "code",
   "execution_count": 22,
   "metadata": {},
   "outputs": [],
   "source": [
    "# dev: for POG1298\n",
    "\n",
    "DATA_PATH = Path(\"../data/\")"
   ]
  },
  {
   "cell_type": "code",
   "execution_count": 23,
   "metadata": {},
   "outputs": [],
   "source": [
    "metadata_raw_indels, data_indels = pp.split_vcf(DATA_PATH / \"sample.indels.vcf\")\n",
    "metadata_raw_snvs, data_snvs = pp.split_vcf(DATA_PATH / \"sample.snvs.vcf\")"
   ]
  },
  {
   "cell_type": "code",
   "execution_count": 24,
   "metadata": {},
   "outputs": [],
   "source": [
    "metadata_indels = pp.parse_vcf_metadata(metadata_raw_indels)\n",
    "metadata_snvs = pp.parse_vcf_metadata(metadata_raw_snvs)"
   ]
  },
  {
   "cell_type": "code",
   "execution_count": 25,
   "metadata": {},
   "outputs": [
    {
     "data": {
      "text/plain": [
       "{'#CHROM',\n",
       " 'ALT',\n",
       " 'F111184',\n",
       " 'F111188',\n",
       " 'FILTER',\n",
       " 'FORMAT',\n",
       " 'ID',\n",
       " 'INFO',\n",
       " 'NORMAL',\n",
       " 'POS',\n",
       " 'QUAL',\n",
       " 'REF',\n",
       " 'TUMOR'}"
      ]
     },
     "execution_count": 25,
     "metadata": {},
     "output_type": "execute_result"
    }
   ],
   "source": [
    "set(data_indels.collect_schema().names())"
   ]
  },
  {
   "cell_type": "code",
   "execution_count": 26,
   "metadata": {},
   "outputs": [],
   "source": [
    "def make_concat_compatible(vcf_1: pl.LazyFrame, vcf_2: pl.LazyFrame):\n",
    "    \"\"\"\n",
    "    Make two VCFs compatible for combining using bcftools concat\n",
    "    \"\"\"\n",
    "\n",
    "    VCF_HEADER = [\n",
    "        \"#CHROM\",\n",
    "        \"POS\",\n",
    "        \"ID\",\n",
    "        \"REF\",\n",
    "        \"ALT\",\n",
    "        \"QUAL\",\n",
    "        \"FILTER\",\n",
    "        \"INFO\",\n",
    "        \"FORMAT\",\n",
    "    ]\n",
    "\n",
    "    vcf_1_samples = set(vcf_1.collect_schema().names())\n",
    "    vcf_2_samples = set(vcf_2.collect_schema().names())\n",
    "\n",
    "    shared_samples = vcf_1_samples.intersection(vcf_2_samples) - set(VCF_HEADER)\n",
    "\n",
    "    vcf_1_compatible = vcf_1.select(\n",
    "        VCF_HEADER + list(shared_samples)\n",
    "    )\n",
    "    vcf_2_compatible = vcf_2.select(\n",
    "        VCF_HEADER + list(shared_samples)\n",
    "    )\n",
    "\n",
    "    return vcf_1_compatible, vcf_2_compatible\n"
   ]
  },
  {
   "cell_type": "code",
   "execution_count": null,
   "metadata": {},
   "outputs": [],
   "source": [
    "import tempfile\n",
    "\n",
    "with tempfile.TemporaryDirectory() as temp_dir:\n",
    "    with open(Path(temp_dir) / \"vcf_1.vcf\", \"w\") as vcf_1:\n",
    "        vcf_1.writelines(metadata_raw_indels)\n",
    "        data_indels.collect().write_csv(\n",
    "            vcf_1, include_header=True, separator=\"\\t\"\n",
    "        )\n",
    "\n",
    "    with open(Path(temp_dir) / \"vcf_2.vcf\", \"w\") as vcf_2:\n",
    "        vcf_2.writelines(metadata_raw_snvs)\n",
    "        data_snvs.collect().write_csv(\n",
    "            vcf_2, include_header=True, separator=\"\\t\"\n",
    "        )"
   ]
  },
  {
   "cell_type": "code",
   "execution_count": null,
   "metadata": {},
   "outputs": [],
   "source": [
    "def vcf_concat(\n",
    "        vcf_1_path: Union[str, Path],\n",
    "        vcf_2_path: Union[str, Path],\n",
    "):\n",
    "    \"\"\"\n",
    "    Combine two VCF files using bcftools concat\n",
    "    \"\"\"\n",
    "\n",
    "    # TODO: check that bcftools is installed\n",
    "\n",
    "    vcf_1_path = Path(vcf_1_path)\n",
    "    vcf_2_path = Path(vcf_2_path)\n",
    "\n",
    "    # bcftools concat requires bgzipped VCFs\n",
    "    subprocess.run(\n",
    "        [\n",
    "            \"bgzip\",\n",
    "            str(vcf_1_path),\n",
    "            \"&&\",\n",
    "            \"bgzip\",\n",
    "            str(vcf_2_path),\n",
    "        ],\n",
    "        check=True\n",
    "    )\n",
    "\n",
    "    # bcftools concat also requires bgzipped VCFs to be indexed\n",
    "    subprocess.run(\n",
    "        [\n",
    "            \"bcftools\",\n",
    "            \"index\",\n",
    "            vcf_1_path.with_suffix(\".vcf.gz\"),\n",
    "            \"&&\",\n",
    "            \"bcftools\",\n",
    "            \"index\",\n",
    "            vcf_2_path.with_suffix(\".vcf.gz\"),\n",
    "        ]\n",
    "    )\n",
    "\n",
    "    subprocess.run(\n",
    "        [\n",
    "            \"bcftools\",\n",
    "            \"concat\",\n",
    "            \"-a\",\n",
    "            vcf_1_path.with_suffix(\".vcf.gz\"),\n",
    "            vcf_2_path.with_suffix(\".vcf.gz\"),\n",
    "            \"-o\",\n",
    "            \"concat.vcf.gz\"\n",
    "        ]\n",
    "    )\n",
    "\n",
    "    pass"
   ]
  },
  {
   "cell_type": "code",
   "execution_count": null,
   "metadata": {},
   "outputs": [
    {
     "data": {
      "text/html": [
       "<div><style>\n",
       ".dataframe > thead > tr,\n",
       ".dataframe > tbody > tr {\n",
       "  text-align: right;\n",
       "  white-space: pre-wrap;\n",
       "}\n",
       "</style>\n",
       "<small>shape: (1, 2)</small><table border=\"1\" class=\"dataframe\"><thead><tr><th>FORMAT</th><th>TUMOR</th></tr><tr><td>str</td><td>str</td></tr></thead><tbody><tr><td>&quot;GT:AD:AF:DP:F1R2:F2R1:SB&quot;</td><td>&quot;.&quot;</td></tr></tbody></table></div>"
      ],
      "text/plain": [
       "shape: (1, 2)\n",
       "┌──────────────────────────┬───────┐\n",
       "│ FORMAT                   ┆ TUMOR │\n",
       "│ ---                      ┆ ---   │\n",
       "│ str                      ┆ str   │\n",
       "╞══════════════════════════╪═══════╡\n",
       "│ GT:AD:AF:DP:F1R2:F2R1:SB ┆ .     │\n",
       "└──────────────────────────┴───────┘"
      ]
     },
     "execution_count": 175,
     "metadata": {},
     "output_type": "execute_result"
    }
   ],
   "source": [
    "df.select(\n",
    "    pl.col(\"FORMAT\", \"TUMOR\")\n",
    ").filter(\n",
    "    pl.col(\"FORMAT\").str.split(\":\").list.len() != pl.col(\"TUMOR\").str.split(\":\").list.len()\n",
    ").unique(\n",
    "    subset=[\"TUMOR\"]    \n",
    ").filter(\n",
    "    pl.col(\"TUMOR\").str.split(\":\").list.len() < 10\n",
    ")"
   ]
  },
  {
   "cell_type": "code",
   "execution_count": 190,
   "metadata": {},
   "outputs": [
    {
     "data": {
      "text/plain": [
       "('GT:DP:DP2:TAR:TIR:TOR:DP50:FDP50:SUBDP50:BCN50:AD:AF:F1R2:F2R1:PGT:PID:PS:SB',\n",
       " '.:54:54:53,54:0,0:1,1:50.50:0.29:0.00:0.00',\n",
       " '.:118:118:90,92:21,22:8,8:120.73:0.00:0.00:0.00',\n",
       " '0|0:54:.:.:.:.:.:.:.:.:54,0:0.018:25,0:25,0:0|1:2081028_TG_T:2081028:25,29,0,0',\n",
       " '0|1:122:.:.:.:.:.:.:.:.:98,24:0.202:49,12:45,12:0|1:2081028_TG_T:2081028:46,52,10,14')"
      ]
     },
     "execution_count": 190,
     "metadata": {},
     "output_type": "execute_result"
    }
   ],
   "source": [
    "df.filter(\n",
    "    pl.col(\"FORMAT\").str.contains(\"PS\")\n",
    ").select(\n",
    "    pl.col(\"FORMAT\", \"NORMAL\", \"TUMOR\", \"F111183\", \"F111704\")\n",
    ").row(0)"
   ]
  },
  {
   "cell_type": "code",
   "execution_count": 189,
   "metadata": {},
   "outputs": [
    {
     "data": {
      "text/plain": [
       "['#CHROM',\n",
       " 'POS',\n",
       " 'ID',\n",
       " 'REF',\n",
       " 'ALT',\n",
       " 'QUAL',\n",
       " 'FILTER',\n",
       " 'INFO',\n",
       " 'FORMAT',\n",
       " 'NORMAL',\n",
       " 'TUMOR',\n",
       " 'F111183',\n",
       " 'F111704']"
      ]
     },
     "execution_count": 189,
     "metadata": {},
     "output_type": "execute_result"
    }
   ],
   "source": [
    "df.columns"
   ]
  },
  {
   "cell_type": "code",
   "execution_count": 184,
   "metadata": {},
   "outputs": [
    {
     "data": {
      "text/html": [
       "<div><style>\n",
       ".dataframe > thead > tr,\n",
       ".dataframe > tbody > tr {\n",
       "  text-align: right;\n",
       "  white-space: pre-wrap;\n",
       "}\n",
       "</style>\n",
       "<small>shape: (5, 11)</small><table border=\"1\" class=\"dataframe\"><thead><tr><th>#CHROM</th><th>POS</th><th>ID</th><th>REF</th><th>ALT</th><th>QUAL</th><th>FILTER</th><th>INFO</th><th>FORMAT</th><th>F111183</th><th>F111704</th></tr><tr><td>str</td><td>i64</td><td>str</td><td>str</td><td>str</td><td>str</td><td>str</td><td>str</td><td>str</td><td>str</td><td>str</td></tr></thead><tbody><tr><td>&quot;chr1&quot;</td><td>630074</td><td>&quot;rs7349151&quot;</td><td>&quot;T&quot;</td><td>&quot;C&quot;</td><td>&quot;.&quot;</td><td>&quot;PASS&quot;</td><td>&quot;AS_FilterStatus=SITE;AS_SB_TAB…</td><td>&quot;GT:AD:AF:DP:F1R2:F2R1:PGT:PID:…</td><td>&quot;0|0:51,0:0.019:51:18,0:22,0:0|…</td><td>&quot;0|1:115,18:0.132:133:33,10:64,…</td></tr><tr><td>&quot;chr1&quot;</td><td>1395944</td><td>&quot;.&quot;</td><td>&quot;A&quot;</td><td>&quot;C&quot;</td><td>&quot;.&quot;</td><td>&quot;PASS&quot;</td><td>&quot;AS_FilterStatus=SITE;AS_SB_TAB…</td><td>&quot;GT:AD:AF:DP:F1R2:F2R1:SB&quot;</td><td>&quot;0/0:48,0:0.020:48:21,0:25,0:23…</td><td>&quot;0/1:98,14:0.125:112:49,6:46,8:…</td></tr><tr><td>&quot;chr1&quot;</td><td>1415696</td><td>&quot;.&quot;</td><td>&quot;C&quot;</td><td>&quot;A&quot;</td><td>&quot;.&quot;</td><td>&quot;PASS&quot;</td><td>&quot;AS_FilterStatus=SITE;AS_SB_TAB…</td><td>&quot;GT:AD:AF:DP:F1R2:F2R1:SB&quot;</td><td>&quot;0/0:59,0:0.017:59:31,0:28,0:28…</td><td>&quot;0/1:106,30:0.220:136:57,18:49,…</td></tr><tr><td>&quot;chr1&quot;</td><td>1777972</td><td>&quot;.&quot;</td><td>&quot;G&quot;</td><td>&quot;A&quot;</td><td>&quot;.&quot;</td><td>&quot;PASS&quot;</td><td>&quot;AS_FilterStatus=SITE;AS_SB_TAB…</td><td>&quot;GT:AD:AF:DP:F1R2:F2R1:SB&quot;</td><td>&quot;0/0:44,0:0.022:44:13,0:31,0:28…</td><td>&quot;0/1:89,12:0.129:101:39,7:49,5:…</td></tr><tr><td>&quot;chr1&quot;</td><td>1959772</td><td>&quot;rs1015196821&quot;</td><td>&quot;C&quot;</td><td>&quot;T&quot;</td><td>&quot;.&quot;</td><td>&quot;PASS&quot;</td><td>&quot;AS_FilterStatus=SITE;AS_SB_TAB…</td><td>&quot;GT:AD:AF:DP:F1R2:F2R1:SB&quot;</td><td>&quot;0/0:55,0:0.018:55:16,0:39,0:25…</td><td>&quot;0/1:73,76:0.505:149:36,36:37,3…</td></tr></tbody></table></div>"
      ],
      "text/plain": [
       "shape: (5, 11)\n",
       "┌────────┬─────────┬─────────────┬─────┬───┬─────────────┬─────────────┬─────────────┬─────────────┐\n",
       "│ #CHROM ┆ POS     ┆ ID          ┆ REF ┆ … ┆ INFO        ┆ FORMAT      ┆ F111183     ┆ F111704     │\n",
       "│ ---    ┆ ---     ┆ ---         ┆ --- ┆   ┆ ---         ┆ ---         ┆ ---         ┆ ---         │\n",
       "│ str    ┆ i64     ┆ str         ┆ str ┆   ┆ str         ┆ str         ┆ str         ┆ str         │\n",
       "╞════════╪═════════╪═════════════╪═════╪═══╪═════════════╪═════════════╪═════════════╪═════════════╡\n",
       "│ chr1   ┆ 630074  ┆ rs7349151   ┆ T   ┆ … ┆ AS_FilterSt ┆ GT:AD:AF:DP ┆ 0|0:51,0:0. ┆ 0|1:115,18: │\n",
       "│        ┆         ┆             ┆     ┆   ┆ atus=SITE;A ┆ :F1R2:F2R1: ┆ 019:51:18,0 ┆ 0.132:133:3 │\n",
       "│        ┆         ┆             ┆     ┆   ┆ S_SB_TAB…   ┆ PGT:PID:…   ┆ :22,0:0|…   ┆ 3,10:64,…   │\n",
       "│ chr1   ┆ 1395944 ┆ .           ┆ A   ┆ … ┆ AS_FilterSt ┆ GT:AD:AF:DP ┆ 0/0:48,0:0. ┆ 0/1:98,14:0 │\n",
       "│        ┆         ┆             ┆     ┆   ┆ atus=SITE;A ┆ :F1R2:F2R1: ┆ 020:48:21,0 ┆ .125:112:49 │\n",
       "│        ┆         ┆             ┆     ┆   ┆ S_SB_TAB…   ┆ SB          ┆ :25,0:23…   ┆ ,6:46,8:…   │\n",
       "│ chr1   ┆ 1415696 ┆ .           ┆ C   ┆ … ┆ AS_FilterSt ┆ GT:AD:AF:DP ┆ 0/0:59,0:0. ┆ 0/1:106,30: │\n",
       "│        ┆         ┆             ┆     ┆   ┆ atus=SITE;A ┆ :F1R2:F2R1: ┆ 017:59:31,0 ┆ 0.220:136:5 │\n",
       "│        ┆         ┆             ┆     ┆   ┆ S_SB_TAB…   ┆ SB          ┆ :28,0:28…   ┆ 7,18:49,…   │\n",
       "│ chr1   ┆ 1777972 ┆ .           ┆ G   ┆ … ┆ AS_FilterSt ┆ GT:AD:AF:DP ┆ 0/0:44,0:0. ┆ 0/1:89,12:0 │\n",
       "│        ┆         ┆             ┆     ┆   ┆ atus=SITE;A ┆ :F1R2:F2R1: ┆ 022:44:13,0 ┆ .129:101:39 │\n",
       "│        ┆         ┆             ┆     ┆   ┆ S_SB_TAB…   ┆ SB          ┆ :31,0:28…   ┆ ,7:49,5:…   │\n",
       "│ chr1   ┆ 1959772 ┆ rs101519682 ┆ C   ┆ … ┆ AS_FilterSt ┆ GT:AD:AF:DP ┆ 0/0:55,0:0. ┆ 0/1:73,76:0 │\n",
       "│        ┆         ┆ 1           ┆     ┆   ┆ atus=SITE;A ┆ :F1R2:F2R1: ┆ 018:55:16,0 ┆ .505:149:36 │\n",
       "│        ┆         ┆             ┆     ┆   ┆ S_SB_TAB…   ┆ SB          ┆ :39,0:25…   ┆ ,36:37,3…   │\n",
       "└────────┴─────────┴─────────────┴─────┴───┴─────────────┴─────────────┴─────────────┴─────────────┘"
      ]
     },
     "execution_count": 184,
     "metadata": {},
     "output_type": "execute_result"
    }
   ],
   "source": [
    "df = pl.read_csv(\n",
    "    str(DATA_PATH / \"sample.snvs.vcf\"),\n",
    "    separator=\"\\t\",\n",
    "    skip_lines=count_vcf_metadata_rows(DATA_PATH / \"sample.snvs.vcf\"),\n",
    "    has_header=True,\n",
    ")\n",
    "\n",
    "df.head()"
   ]
  }
 ],
 "metadata": {
  "kernelspec": {
   "display_name": ".venv",
   "language": "python",
   "name": "python3"
  },
  "language_info": {
   "codemirror_mode": {
    "name": "ipython",
    "version": 3
   },
   "file_extension": ".py",
   "mimetype": "text/x-python",
   "name": "python",
   "nbconvert_exporter": "python",
   "pygments_lexer": "ipython3",
   "version": "3.12.5"
  }
 },
 "nbformat": 4,
 "nbformat_minor": 2
}
