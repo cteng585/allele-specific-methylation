{
 "cells": [
  {
   "cell_type": "code",
   "execution_count": 83,
   "metadata": {},
   "outputs": [],
   "source": [
    "import csv\n",
    "import re\n",
    "from enum import Enum\n",
    "from pathlib import Path\n",
    "\n",
    "import polars as pl\n",
    "from polars import selectors as cs"
   ]
  },
  {
   "cell_type": "code",
   "execution_count": null,
   "metadata": {},
   "outputs": [],
   "source": [
    "# dev: for POG1298\n",
    "\n",
    "DATA_PATH = Path(\"../data/\")"
   ]
  },
  {
   "cell_type": "code",
   "execution_count": 181,
   "metadata": {},
   "outputs": [],
   "source": [
    "def count_vcf_metadata_rows(file_path: Path) -> int:\n",
    "    with open(file_path) as infile:\n",
    "        num_metadata_lines = 0\n",
    "        while True:\n",
    "            line = infile.readline()\n",
    "            \n",
    "            if re.match(\"##\", line):\n",
    "                num_metadata_lines += 1 \n",
    "            else:\n",
    "                break\n",
    "    \n",
    "    return num_metadata_lines"
   ]
  },
  {
   "cell_type": "code",
   "execution_count": 186,
   "metadata": {},
   "outputs": [
    {
     "data": {
      "text/html": [
       "<div><style>\n",
       ".dataframe > thead > tr,\n",
       ".dataframe > tbody > tr {\n",
       "  text-align: right;\n",
       "  white-space: pre-wrap;\n",
       "}\n",
       "</style>\n",
       "<small>shape: (5, 13)</small><table border=\"1\" class=\"dataframe\"><thead><tr><th>#CHROM</th><th>POS</th><th>ID</th><th>REF</th><th>ALT</th><th>QUAL</th><th>FILTER</th><th>INFO</th><th>FORMAT</th><th>NORMAL</th><th>TUMOR</th><th>F111183</th><th>F111704</th></tr><tr><td>str</td><td>i64</td><td>str</td><td>str</td><td>str</td><td>str</td><td>str</td><td>str</td><td>str</td><td>str</td><td>str</td><td>str</td><td>str</td></tr></thead><tbody><tr><td>&quot;chr1&quot;</td><td>2081028</td><td>&quot;.&quot;</td><td>&quot;TG&quot;</td><td>&quot;T&quot;</td><td>&quot;.&quot;</td><td>&quot;PASS&quot;</td><td>&quot;SOMATIC;QSI=75;TQSI=1;NT=ref;Q…</td><td>&quot;GT:DP:DP2:TAR:TIR:TOR:DP50:FDP…</td><td>&quot;.:54:54:53,54:0,0:1,1:50.50:0.…</td><td>&quot;.:118:118:90,92:21,22:8,8:120.…</td><td>&quot;0|0:54:.:.:.:.:.:.:.:.:54,0:0.…</td><td>&quot;0|1:122:.:.:.:.:.:.:.:.:98,24:…</td></tr><tr><td>&quot;chr1&quot;</td><td>4031552</td><td>&quot;rs113283042;rs140543974;rs5768…</td><td>&quot;G&quot;</td><td>&quot;GT&quot;</td><td>&quot;.&quot;</td><td>&quot;PASS&quot;</td><td>&quot;SOMATIC;QSI=59;TQSI=1;NT=ref;Q…</td><td>&quot;DP:DP2:TAR:TIR:TOR:DP50:FDP50:…</td><td>&quot;45:45:42,42:0,0:3,3:44.36:0.25…</td><td>&quot;115:115:81,82:21,22:11,10:111.…</td><td>&quot;.&quot;</td><td>&quot;.&quot;</td></tr><tr><td>&quot;chr1&quot;</td><td>6481562</td><td>&quot;.&quot;</td><td>&quot;A&quot;</td><td>&quot;AATAT&quot;</td><td>&quot;.&quot;</td><td>&quot;PASS&quot;</td><td>&quot;SOMATIC;QSI=51;TQSI=1;NT=ref;Q…</td><td>&quot;DP:DP2:TAR:TIR:TOR:DP50:FDP50:…</td><td>&quot;43:43:36,38:3,3:4,3:44.67:1.32…</td><td>&quot;111:111:57,62:36,39:21,19:110.…</td><td>&quot;.&quot;</td><td>&quot;.&quot;</td></tr><tr><td>&quot;chr1&quot;</td><td>7156275</td><td>&quot;.&quot;</td><td>&quot;CA&quot;</td><td>&quot;C&quot;</td><td>&quot;.&quot;</td><td>&quot;PASS&quot;</td><td>&quot;SOMATIC;QSI=59;TQSI=1;NT=ref;Q…</td><td>&quot;DP:DP2:TAR:TIR:TOR:DP50:FDP50:…</td><td>&quot;39:39:28,31:0,0:12,9:39.78:2.4…</td><td>&quot;103:103:52,54:25,25:26,25:103.…</td><td>&quot;.&quot;</td><td>&quot;.&quot;</td></tr><tr><td>&quot;chr1&quot;</td><td>11633506</td><td>&quot;rs573016490&quot;</td><td>&quot;AT&quot;</td><td>&quot;A&quot;</td><td>&quot;.&quot;</td><td>&quot;PASS&quot;</td><td>&quot;SOMATIC;QSI=61;TQSI=2;NT=ref;Q…</td><td>&quot;GT:DP:DP2:TAR:TIR:TOR:DP50:FDP…</td><td>&quot;.:34:34:28,28:0,0:5,5:31.28:1.…</td><td>&quot;.:109:109:56,58:30,30:21,23:10…</td><td>&quot;0/0:24:.:.:.:.:.:.:.:.:24,0:0.…</td><td>&quot;0/1:70:.:.:.:.:.:.:.:.:42,28:0…</td></tr></tbody></table></div>"
      ],
      "text/plain": [
       "shape: (5, 13)\n",
       "┌────────┬──────────┬─────────────┬─────┬───┬─────────────┬─────────────┬─────────────┬────────────┐\n",
       "│ #CHROM ┆ POS      ┆ ID          ┆ REF ┆ … ┆ NORMAL      ┆ TUMOR       ┆ F111183     ┆ F111704    │\n",
       "│ ---    ┆ ---      ┆ ---         ┆ --- ┆   ┆ ---         ┆ ---         ┆ ---         ┆ ---        │\n",
       "│ str    ┆ i64      ┆ str         ┆ str ┆   ┆ str         ┆ str         ┆ str         ┆ str        │\n",
       "╞════════╪══════════╪═════════════╪═════╪═══╪═════════════╪═════════════╪═════════════╪════════════╡\n",
       "│ chr1   ┆ 2081028  ┆ .           ┆ TG  ┆ … ┆ .:54:54:53, ┆ .:118:118:9 ┆ 0|0:54:.:.: ┆ 0|1:122:.: │\n",
       "│        ┆          ┆             ┆     ┆   ┆ 54:0,0:1,1: ┆ 0,92:21,22: ┆ .:.:.:.:.:. ┆ .:.:.:.:.: │\n",
       "│        ┆          ┆             ┆     ┆   ┆ 50.50:0.…   ┆ 8,8:120.…   ┆ :54,0:0.…   ┆ .:.:98,24: │\n",
       "│        ┆          ┆             ┆     ┆   ┆             ┆             ┆             ┆ …          │\n",
       "│ chr1   ┆ 4031552  ┆ rs113283042 ┆ G   ┆ … ┆ 45:45:42,42 ┆ 115:115:81, ┆ .           ┆ .          │\n",
       "│        ┆          ┆ ;rs14054397 ┆     ┆   ┆ :0,0:3,3:44 ┆ 82:21,22:11 ┆             ┆            │\n",
       "│        ┆          ┆ 4;rs5768…   ┆     ┆   ┆ .36:0.25…   ┆ ,10:111.…   ┆             ┆            │\n",
       "│ chr1   ┆ 6481562  ┆ .           ┆ A   ┆ … ┆ 43:43:36,38 ┆ 111:111:57, ┆ .           ┆ .          │\n",
       "│        ┆          ┆             ┆     ┆   ┆ :3,3:4,3:44 ┆ 62:36,39:21 ┆             ┆            │\n",
       "│        ┆          ┆             ┆     ┆   ┆ .67:1.32…   ┆ ,19:110.…   ┆             ┆            │\n",
       "│ chr1   ┆ 7156275  ┆ .           ┆ CA  ┆ … ┆ 39:39:28,31 ┆ 103:103:52, ┆ .           ┆ .          │\n",
       "│        ┆          ┆             ┆     ┆   ┆ :0,0:12,9:3 ┆ 54:25,25:26 ┆             ┆            │\n",
       "│        ┆          ┆             ┆     ┆   ┆ 9.78:2.4…   ┆ ,25:103.…   ┆             ┆            │\n",
       "│ chr1   ┆ 11633506 ┆ rs573016490 ┆ AT  ┆ … ┆ .:34:34:28, ┆ .:109:109:5 ┆ 0/0:24:.:.: ┆ 0/1:70:.:. │\n",
       "│        ┆          ┆             ┆     ┆   ┆ 28:0,0:5,5: ┆ 6,58:30,30: ┆ .:.:.:.:.:. ┆ :.:.:.:.:. │\n",
       "│        ┆          ┆             ┆     ┆   ┆ 31.28:1.…   ┆ 21,23:10…   ┆ :24,0:0.…   ┆ :.:42,28:0 │\n",
       "│        ┆          ┆             ┆     ┆   ┆             ┆             ┆             ┆ …          │\n",
       "└────────┴──────────┴─────────────┴─────┴───┴─────────────┴─────────────┴─────────────┴────────────┘"
      ]
     },
     "execution_count": 186,
     "metadata": {},
     "output_type": "execute_result"
    }
   ],
   "source": [
    "df = pl.read_csv(\n",
    "    str(DATA_PATH / \"sample.indels.vcf\"),\n",
    "    separator=\"\\t\",\n",
    "    skip_lines=count_vcf_metadata_rows(DATA_PATH / \"sample.indels.vcf\"),\n",
    ")\n",
    "\n",
    "df.head()"
   ]
  },
  {
   "cell_type": "code",
   "execution_count": 38,
   "metadata": {},
   "outputs": [
    {
     "data": {
      "text/plain": [
       "['#CHROM',\n",
       " 'POS',\n",
       " 'ID',\n",
       " 'REF',\n",
       " 'ALT',\n",
       " 'QUAL',\n",
       " 'FILTER',\n",
       " 'INFO',\n",
       " 'FORMAT',\n",
       " 'NORMAL',\n",
       " 'TUMOR',\n",
       " 'F111183',\n",
       " 'F111704']"
      ]
     },
     "execution_count": 38,
     "metadata": {},
     "output_type": "execute_result"
    }
   ],
   "source": [
    "df.columns"
   ]
  },
  {
   "cell_type": "code",
   "execution_count": 109,
   "metadata": {},
   "outputs": [],
   "source": [
    "genotype_format = \"\"\"##FORMAT=<ID=DP,Number=1,Type=Integer,Description=\"Read depth for tier1\">\n",
    "##FORMAT=<ID=DP2,Number=1,Type=Integer,Description=\"Read depth for tier2\">\n",
    "##FORMAT=<ID=TAR,Number=2,Type=Integer,Description=\"Reads strongly supporting alternate allele for tiers 1,2\">\n",
    "##FORMAT=<ID=TIR,Number=2,Type=Integer,Description=\"Reads strongly supporting indel allele for tiers 1,2\">\n",
    "##FORMAT=<ID=TOR,Number=2,Type=Integer,Description=\"Other reads (weak support or insufficient indel breakpoint overlap) for tiers 1,2\">\n",
    "##FORMAT=<ID=DP50,Number=1,Type=Float,Description=\"Average tier1 read depth within 50 bases\">\n",
    "##FORMAT=<ID=FDP50,Number=1,Type=Float,Description=\"Average tier1 number of basecalls filtered from original read depth within 50 bases\">\n",
    "##FORMAT=<ID=SUBDP50,Number=1,Type=Float,Description=\"Average number of reads below tier1 mapping quality threshold aligned across sites within 50 bases\">\n",
    "##FORMAT=<ID=BCN50,Number=1,Type=Float,Description=\"Fraction of filtered reads within 50 bases of the indel.\">\n",
    "##FORMAT=<ID=AD,Number=R,Type=Integer,Description=\"Allelic depths for the ref and alt alleles in the order listed\">\n",
    "##FORMAT=<ID=AF,Number=A,Type=Float,Description=\"Allele fractions of alternate alleles in the tumor\">\n",
    "##FORMAT=<ID=F1R2,Number=R,Type=Integer,Description=\"Count of reads in F1R2 pair orientation supporting each allele\">\n",
    "##FORMAT=<ID=F2R1,Number=R,Type=Integer,Description=\"Count of reads in F2R1 pair orientation supporting each allele\">\n",
    "##FORMAT=<ID=GQ,Number=1,Type=Integer,Description=\"Genotype Quality\">\n",
    "##FORMAT=<ID=GT,Number=1,Type=String,Description=\"Genotype\">\n",
    "##FORMAT=<ID=PGT,Number=1,Type=String,Description=\"Physical phasing haplotype information, describing how the alternate alleles are phased in relation to one another; will always be heterozygous and is not intended to describe called alleles\">\n",
    "##FORMAT=<ID=PID,Number=1,Type=String,Description=\"Physical phasing ID information, where each unique ID within a given sample (but not across samples) connects records within a phasing group\">\n",
    "##FORMAT=<ID=PL,Number=G,Type=Integer,Description=\"Normalized, Phred-scaled likelihoods for genotypes as defined in the VCF specification\">\n",
    "##FORMAT=<ID=PS,Number=1,Type=Integer,Description=\"Phasing set (typically the position of the first variant in the set)\">\n",
    "##FORMAT=<ID=SB,Number=4,Type=Integer,Description=\"Per-sample component statistics which comprise the Fisher's Exact Test to detect strand bias.\">\"\"\"\n",
    "\n",
    "genotype_format_dict = {}\n",
    "\n",
    "for line in genotype_format.split(\"\\n\"):\n",
    "    line = re.sub(\n",
    "        r\"^##FORMAT=<|>$\",\n",
    "        \"\",\n",
    "        line\n",
    "    )\n",
    "    try:\n",
    "        values = re.split(\n",
    "            r',(?=(?:[^\"]*\"[^\"]*\")*[^\"]*$)',\n",
    "            line                      \n",
    "        )\n",
    "\n",
    "        for value in values:\n",
    "            if value.startswith(\"ID=\"):\n",
    "                id = value\n",
    "            elif value.startswith(\"Number=\"):\n",
    "                num_values = value\n",
    "            elif value.startswith(\"Type=\"):\n",
    "                data_type = value\n",
    "            elif value.startswith(\"Description=\"):\n",
    "                description = value\n",
    "\n",
    "        genotype_format_dict[id.split(\"=\")[1]] = {\n",
    "            \"Number\": num_values.split(\"=\")[1],\n",
    "            \"Type\": data_type.split(\"=\")[1],\n",
    "            \"Description\": description.split(\"=\")[1].strip('\"')\n",
    "        }\n",
    "    except ValueError:\n",
    "        raise ValueError(f\"FORMAT metadata is not well-formed for line {line}\")"
   ]
  },
  {
   "cell_type": "code",
   "execution_count": null,
   "metadata": {},
   "outputs": [
    {
     "data": {
      "text/html": [
       "<div><style>\n",
       ".dataframe > thead > tr,\n",
       ".dataframe > tbody > tr {\n",
       "  text-align: right;\n",
       "  white-space: pre-wrap;\n",
       "}\n",
       "</style>\n",
       "<small>shape: (1, 2)</small><table border=\"1\" class=\"dataframe\"><thead><tr><th>FORMAT</th><th>TUMOR</th></tr><tr><td>str</td><td>str</td></tr></thead><tbody><tr><td>&quot;GT:AD:AF:DP:F1R2:F2R1:SB&quot;</td><td>&quot;.&quot;</td></tr></tbody></table></div>"
      ],
      "text/plain": [
       "shape: (1, 2)\n",
       "┌──────────────────────────┬───────┐\n",
       "│ FORMAT                   ┆ TUMOR │\n",
       "│ ---                      ┆ ---   │\n",
       "│ str                      ┆ str   │\n",
       "╞══════════════════════════╪═══════╡\n",
       "│ GT:AD:AF:DP:F1R2:F2R1:SB ┆ .     │\n",
       "└──────────────────────────┴───────┘"
      ]
     },
     "execution_count": 175,
     "metadata": {},
     "output_type": "execute_result"
    }
   ],
   "source": [
    "df.select(\n",
    "    pl.col(\"FORMAT\", \"TUMOR\")\n",
    ").filter(\n",
    "    pl.col(\"FORMAT\").str.split(\":\").list.len() != pl.col(\"TUMOR\").str.split(\":\").list.len()\n",
    ").unique(\n",
    "    subset=[\"TUMOR\"]    \n",
    ").filter(\n",
    "    pl.col(\"TUMOR\").str.split(\":\").list.len() < 10\n",
    ")"
   ]
  },
  {
   "cell_type": "code",
   "execution_count": 190,
   "metadata": {},
   "outputs": [
    {
     "data": {
      "text/plain": [
       "('GT:DP:DP2:TAR:TIR:TOR:DP50:FDP50:SUBDP50:BCN50:AD:AF:F1R2:F2R1:PGT:PID:PS:SB',\n",
       " '.:54:54:53,54:0,0:1,1:50.50:0.29:0.00:0.00',\n",
       " '.:118:118:90,92:21,22:8,8:120.73:0.00:0.00:0.00',\n",
       " '0|0:54:.:.:.:.:.:.:.:.:54,0:0.018:25,0:25,0:0|1:2081028_TG_T:2081028:25,29,0,0',\n",
       " '0|1:122:.:.:.:.:.:.:.:.:98,24:0.202:49,12:45,12:0|1:2081028_TG_T:2081028:46,52,10,14')"
      ]
     },
     "execution_count": 190,
     "metadata": {},
     "output_type": "execute_result"
    }
   ],
   "source": [
    "df.filter(\n",
    "    pl.col(\"FORMAT\").str.contains(\"PS\")\n",
    ").select(\n",
    "    pl.col(\"FORMAT\", \"NORMAL\", \"TUMOR\", \"F111183\", \"F111704\")\n",
    ").row(0)"
   ]
  },
  {
   "cell_type": "code",
   "execution_count": 189,
   "metadata": {},
   "outputs": [
    {
     "data": {
      "text/plain": [
       "['#CHROM',\n",
       " 'POS',\n",
       " 'ID',\n",
       " 'REF',\n",
       " 'ALT',\n",
       " 'QUAL',\n",
       " 'FILTER',\n",
       " 'INFO',\n",
       " 'FORMAT',\n",
       " 'NORMAL',\n",
       " 'TUMOR',\n",
       " 'F111183',\n",
       " 'F111704']"
      ]
     },
     "execution_count": 189,
     "metadata": {},
     "output_type": "execute_result"
    }
   ],
   "source": [
    "df.columns"
   ]
  },
  {
   "cell_type": "code",
   "execution_count": 184,
   "metadata": {},
   "outputs": [
    {
     "data": {
      "text/html": [
       "<div><style>\n",
       ".dataframe > thead > tr,\n",
       ".dataframe > tbody > tr {\n",
       "  text-align: right;\n",
       "  white-space: pre-wrap;\n",
       "}\n",
       "</style>\n",
       "<small>shape: (5, 11)</small><table border=\"1\" class=\"dataframe\"><thead><tr><th>#CHROM</th><th>POS</th><th>ID</th><th>REF</th><th>ALT</th><th>QUAL</th><th>FILTER</th><th>INFO</th><th>FORMAT</th><th>F111183</th><th>F111704</th></tr><tr><td>str</td><td>i64</td><td>str</td><td>str</td><td>str</td><td>str</td><td>str</td><td>str</td><td>str</td><td>str</td><td>str</td></tr></thead><tbody><tr><td>&quot;chr1&quot;</td><td>630074</td><td>&quot;rs7349151&quot;</td><td>&quot;T&quot;</td><td>&quot;C&quot;</td><td>&quot;.&quot;</td><td>&quot;PASS&quot;</td><td>&quot;AS_FilterStatus=SITE;AS_SB_TAB…</td><td>&quot;GT:AD:AF:DP:F1R2:F2R1:PGT:PID:…</td><td>&quot;0|0:51,0:0.019:51:18,0:22,0:0|…</td><td>&quot;0|1:115,18:0.132:133:33,10:64,…</td></tr><tr><td>&quot;chr1&quot;</td><td>1395944</td><td>&quot;.&quot;</td><td>&quot;A&quot;</td><td>&quot;C&quot;</td><td>&quot;.&quot;</td><td>&quot;PASS&quot;</td><td>&quot;AS_FilterStatus=SITE;AS_SB_TAB…</td><td>&quot;GT:AD:AF:DP:F1R2:F2R1:SB&quot;</td><td>&quot;0/0:48,0:0.020:48:21,0:25,0:23…</td><td>&quot;0/1:98,14:0.125:112:49,6:46,8:…</td></tr><tr><td>&quot;chr1&quot;</td><td>1415696</td><td>&quot;.&quot;</td><td>&quot;C&quot;</td><td>&quot;A&quot;</td><td>&quot;.&quot;</td><td>&quot;PASS&quot;</td><td>&quot;AS_FilterStatus=SITE;AS_SB_TAB…</td><td>&quot;GT:AD:AF:DP:F1R2:F2R1:SB&quot;</td><td>&quot;0/0:59,0:0.017:59:31,0:28,0:28…</td><td>&quot;0/1:106,30:0.220:136:57,18:49,…</td></tr><tr><td>&quot;chr1&quot;</td><td>1777972</td><td>&quot;.&quot;</td><td>&quot;G&quot;</td><td>&quot;A&quot;</td><td>&quot;.&quot;</td><td>&quot;PASS&quot;</td><td>&quot;AS_FilterStatus=SITE;AS_SB_TAB…</td><td>&quot;GT:AD:AF:DP:F1R2:F2R1:SB&quot;</td><td>&quot;0/0:44,0:0.022:44:13,0:31,0:28…</td><td>&quot;0/1:89,12:0.129:101:39,7:49,5:…</td></tr><tr><td>&quot;chr1&quot;</td><td>1959772</td><td>&quot;rs1015196821&quot;</td><td>&quot;C&quot;</td><td>&quot;T&quot;</td><td>&quot;.&quot;</td><td>&quot;PASS&quot;</td><td>&quot;AS_FilterStatus=SITE;AS_SB_TAB…</td><td>&quot;GT:AD:AF:DP:F1R2:F2R1:SB&quot;</td><td>&quot;0/0:55,0:0.018:55:16,0:39,0:25…</td><td>&quot;0/1:73,76:0.505:149:36,36:37,3…</td></tr></tbody></table></div>"
      ],
      "text/plain": [
       "shape: (5, 11)\n",
       "┌────────┬─────────┬─────────────┬─────┬───┬─────────────┬─────────────┬─────────────┬─────────────┐\n",
       "│ #CHROM ┆ POS     ┆ ID          ┆ REF ┆ … ┆ INFO        ┆ FORMAT      ┆ F111183     ┆ F111704     │\n",
       "│ ---    ┆ ---     ┆ ---         ┆ --- ┆   ┆ ---         ┆ ---         ┆ ---         ┆ ---         │\n",
       "│ str    ┆ i64     ┆ str         ┆ str ┆   ┆ str         ┆ str         ┆ str         ┆ str         │\n",
       "╞════════╪═════════╪═════════════╪═════╪═══╪═════════════╪═════════════╪═════════════╪═════════════╡\n",
       "│ chr1   ┆ 630074  ┆ rs7349151   ┆ T   ┆ … ┆ AS_FilterSt ┆ GT:AD:AF:DP ┆ 0|0:51,0:0. ┆ 0|1:115,18: │\n",
       "│        ┆         ┆             ┆     ┆   ┆ atus=SITE;A ┆ :F1R2:F2R1: ┆ 019:51:18,0 ┆ 0.132:133:3 │\n",
       "│        ┆         ┆             ┆     ┆   ┆ S_SB_TAB…   ┆ PGT:PID:…   ┆ :22,0:0|…   ┆ 3,10:64,…   │\n",
       "│ chr1   ┆ 1395944 ┆ .           ┆ A   ┆ … ┆ AS_FilterSt ┆ GT:AD:AF:DP ┆ 0/0:48,0:0. ┆ 0/1:98,14:0 │\n",
       "│        ┆         ┆             ┆     ┆   ┆ atus=SITE;A ┆ :F1R2:F2R1: ┆ 020:48:21,0 ┆ .125:112:49 │\n",
       "│        ┆         ┆             ┆     ┆   ┆ S_SB_TAB…   ┆ SB          ┆ :25,0:23…   ┆ ,6:46,8:…   │\n",
       "│ chr1   ┆ 1415696 ┆ .           ┆ C   ┆ … ┆ AS_FilterSt ┆ GT:AD:AF:DP ┆ 0/0:59,0:0. ┆ 0/1:106,30: │\n",
       "│        ┆         ┆             ┆     ┆   ┆ atus=SITE;A ┆ :F1R2:F2R1: ┆ 017:59:31,0 ┆ 0.220:136:5 │\n",
       "│        ┆         ┆             ┆     ┆   ┆ S_SB_TAB…   ┆ SB          ┆ :28,0:28…   ┆ 7,18:49,…   │\n",
       "│ chr1   ┆ 1777972 ┆ .           ┆ G   ┆ … ┆ AS_FilterSt ┆ GT:AD:AF:DP ┆ 0/0:44,0:0. ┆ 0/1:89,12:0 │\n",
       "│        ┆         ┆             ┆     ┆   ┆ atus=SITE;A ┆ :F1R2:F2R1: ┆ 022:44:13,0 ┆ .129:101:39 │\n",
       "│        ┆         ┆             ┆     ┆   ┆ S_SB_TAB…   ┆ SB          ┆ :31,0:28…   ┆ ,7:49,5:…   │\n",
       "│ chr1   ┆ 1959772 ┆ rs101519682 ┆ C   ┆ … ┆ AS_FilterSt ┆ GT:AD:AF:DP ┆ 0/0:55,0:0. ┆ 0/1:73,76:0 │\n",
       "│        ┆         ┆ 1           ┆     ┆   ┆ atus=SITE;A ┆ :F1R2:F2R1: ┆ 018:55:16,0 ┆ .505:149:36 │\n",
       "│        ┆         ┆             ┆     ┆   ┆ S_SB_TAB…   ┆ SB          ┆ :39,0:25…   ┆ ,36:37,3…   │\n",
       "└────────┴─────────┴─────────────┴─────┴───┴─────────────┴─────────────┴─────────────┴─────────────┘"
      ]
     },
     "execution_count": 184,
     "metadata": {},
     "output_type": "execute_result"
    }
   ],
   "source": [
    "df = pl.read_csv(\n",
    "    str(DATA_PATH / \"sample.snvs.vcf\"),\n",
    "    separator=\"\\t\",\n",
    "    skip_lines=count_vcf_metadata_rows(DATA_PATH / \"sample.snvs.vcf\"),\n",
    "    has_header=True,\n",
    ")\n",
    "\n",
    "df.head()"
   ]
  }
 ],
 "metadata": {
  "kernelspec": {
   "display_name": ".venv",
   "language": "python",
   "name": "python3"
  },
  "language_info": {
   "codemirror_mode": {
    "name": "ipython",
    "version": 3
   },
   "file_extension": ".py",
   "mimetype": "text/x-python",
   "name": "python",
   "nbconvert_exporter": "python",
   "pygments_lexer": "ipython3",
   "version": "3.12.5"
  }
 },
 "nbformat": 4,
 "nbformat_minor": 2
}
