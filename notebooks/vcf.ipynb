{
 "cells": [
  {
   "cell_type": "code",
   "metadata": {
    "ExecuteTime": {
     "end_time": "2025-02-10T22:41:37.109912Z",
     "start_time": "2025-02-10T22:41:37.107703Z"
    }
   },
   "source": "from pathlib import Path",
   "outputs": [],
   "execution_count": 12
  },
  {
   "cell_type": "code",
   "metadata": {
    "ExecuteTime": {
     "end_time": "2025-02-10T22:41:37.117162Z",
     "start_time": "2025-02-10T22:41:37.114976Z"
    }
   },
   "source": "import vcf_processing.preprocessing as pp",
   "outputs": [],
   "execution_count": 13
  },
  {
   "cell_type": "code",
   "metadata": {
    "ExecuteTime": {
     "end_time": "2025-02-10T22:41:37.125858Z",
     "start_time": "2025-02-10T22:41:37.124013Z"
    }
   },
   "source": [
    "# dev: for POG1297\n",
    "\n",
    "DATA_PATH = Path(\"../data/\")"
   ],
   "outputs": [],
   "execution_count": 14
  },
  {
   "cell_type": "code",
   "metadata": {
    "ExecuteTime": {
     "end_time": "2025-02-10T22:41:37.155682Z",
     "start_time": "2025-02-10T22:41:37.131519Z"
    }
   },
   "source": [
    "metadata_raw_indels, header_indels = pp.read_vcf_metadata(DATA_PATH / \"sample.indels.vcf\")\n",
    "metadata_raw_snvs, header_indels = pp.read_vcf_metadata(DATA_PATH / \"sample.snvs.vcf\")"
   ],
   "outputs": [],
   "execution_count": 15
  },
  {
   "metadata": {
    "ExecuteTime": {
     "end_time": "2025-02-10T22:41:37.193706Z",
     "start_time": "2025-02-10T22:41:37.162516Z"
    }
   },
   "cell_type": "code",
   "source": [
    "data_indels = pp.read_vcf_data(DATA_PATH / \"sample.indels.vcf\", len(metadata_raw_indels) + 1)\n",
    "data_indels"
   ],
   "outputs": [
    {
     "data": {
      "text/plain": [
       "shape: (2_893, 13)\n",
       "┌────────────┬───────────┬───────────┬─────────┬───┬───────────┬───────────┬───────────┬───────────┐\n",
       "│ #CHROM     ┆ POS       ┆ ID        ┆ REF     ┆ … ┆ NORMAL    ┆ TUMOR     ┆ F111183   ┆ F111704   │\n",
       "│ ---        ┆ ---       ┆ ---       ┆ ---     ┆   ┆ ---       ┆ ---       ┆ ---       ┆ ---       │\n",
       "│ str        ┆ i64       ┆ str       ┆ str     ┆   ┆ str       ┆ str       ┆ str       ┆ str       │\n",
       "╞════════════╪═══════════╪═══════════╪═════════╪═══╪═══════════╪═══════════╪═══════════╪═══════════╡\n",
       "│ chr1       ┆ 2081028   ┆ .         ┆ TG      ┆ … ┆ .:54:54:5 ┆ .:118:118 ┆ 0|0:54:.: ┆ 0|1:122:. │\n",
       "│            ┆           ┆           ┆         ┆   ┆ 3,54:0,0: ┆ :90,92:21 ┆ .:.:.:.:. ┆ :.:.:.:.: │\n",
       "│            ┆           ┆           ┆         ┆   ┆ 1,1:50.50 ┆ ,22:8,8:1 ┆ :.:.:54,0 ┆ .:.:.:98, │\n",
       "│            ┆           ┆           ┆         ┆   ┆ :0.…      ┆ 20.…      ┆ :0.…      ┆ 24:…      │\n",
       "│ chr1       ┆ 4031552   ┆ rs1132830 ┆ G       ┆ … ┆ 45:45:42, ┆ 115:115:8 ┆ .         ┆ .         │\n",
       "│            ┆           ┆ 42;rs1405 ┆         ┆   ┆ 42:0,0:3, ┆ 1,82:21,2 ┆           ┆           │\n",
       "│            ┆           ┆ 43974;rs5 ┆         ┆   ┆ 3:44.36:0 ┆ 2:11,10:1 ┆           ┆           │\n",
       "│            ┆           ┆ 768…      ┆         ┆   ┆ .25…      ┆ 11.…      ┆           ┆           │\n",
       "│ chr1       ┆ 6481562   ┆ .         ┆ A       ┆ … ┆ 43:43:36, ┆ 111:111:5 ┆ .         ┆ .         │\n",
       "│            ┆           ┆           ┆         ┆   ┆ 38:3,3:4, ┆ 7,62:36,3 ┆           ┆           │\n",
       "│            ┆           ┆           ┆         ┆   ┆ 3:44.67:1 ┆ 9:21,19:1 ┆           ┆           │\n",
       "│            ┆           ┆           ┆         ┆   ┆ .32…      ┆ 10.…      ┆           ┆           │\n",
       "│ chr1       ┆ 7156275   ┆ .         ┆ CA      ┆ … ┆ 39:39:28, ┆ 103:103:5 ┆ .         ┆ .         │\n",
       "│            ┆           ┆           ┆         ┆   ┆ 31:0,0:12 ┆ 2,54:25,2 ┆           ┆           │\n",
       "│            ┆           ┆           ┆         ┆   ┆ ,9:39.78: ┆ 5:26,25:1 ┆           ┆           │\n",
       "│            ┆           ┆           ┆         ┆   ┆ 2.4…      ┆ 03.…      ┆           ┆           │\n",
       "│ chr1       ┆ 11633506  ┆ rs5730164 ┆ AT      ┆ … ┆ .:34:34:2 ┆ .:109:109 ┆ 0/0:24:.: ┆ 0/1:70:.: │\n",
       "│            ┆           ┆ 90        ┆         ┆   ┆ 8,28:0,0: ┆ :56,58:30 ┆ .:.:.:.:. ┆ .:.:.:.:. │\n",
       "│            ┆           ┆           ┆         ┆   ┆ 5,5:31.28 ┆ ,30:21,23 ┆ :.:.:24,0 ┆ :.:.:42,2 │\n",
       "│            ┆           ┆           ┆         ┆   ┆ :1.…      ┆ :10…      ┆ :0.…      ┆ 8:0…      │\n",
       "│ …          ┆ …         ┆ …         ┆ …       ┆ … ┆ …         ┆ …         ┆ …         ┆ …         │\n",
       "│ chrX       ┆ 153296394 ┆ .         ┆ T       ┆ … ┆ .         ┆ .         ┆ 0/0:12,0: ┆ 0/1:14,46 │\n",
       "│            ┆           ┆           ┆         ┆   ┆           ┆           ┆ 0.068:12: ┆ :0.761:60 │\n",
       "│            ┆           ┆           ┆         ┆   ┆           ┆           ┆ 5,0:6,0:3 ┆ :10,20:3, │\n",
       "│            ┆           ┆           ┆         ┆   ┆           ┆           ┆ ,9,…      ┆ 21:…      │\n",
       "│ chrX       ┆ 153557881 ┆ rs7819552 ┆ A       ┆ … ┆ 18:18:16, ┆ 105:105:6 ┆ .         ┆ .         │\n",
       "│            ┆           ┆ 74        ┆         ┆   ┆ 17:0,0:2, ┆ 2,69:25,2 ┆           ┆           │\n",
       "│            ┆           ┆           ┆         ┆   ┆ 1:20.00:2 ┆ 6:20,15:1 ┆           ┆           │\n",
       "│            ┆           ┆           ┆         ┆   ┆ .61…      ┆ 07.…      ┆           ┆           │\n",
       "│ chrX       ┆ 154696298 ┆ rs3510533 ┆ C       ┆ … ┆ .:24:24:1 ┆ .:101:101 ┆ 0/0:9:.:. ┆ 0/1:26:.: │\n",
       "│            ┆           ┆ 0         ┆         ┆   ┆ 7,19:0,0: ┆ :11,14:49 ┆ :.:.:.:.: ┆ .:.:.:.:. │\n",
       "│            ┆           ┆           ┆         ┆   ┆ 7,5:29.31 ┆ ,53:42,35 ┆ .:.:9,0:0 ┆ :.:.:6,20 │\n",
       "│            ┆           ┆           ┆         ┆   ┆ :4.…      ┆ :10…      ┆ .07…      ┆ :0.…      │\n",
       "│ chrUn_KI27 ┆ 78140     ┆ .         ┆ ATATATG ┆ … ┆ 75:75:75, ┆ 260:260:2 ┆ .         ┆ .         │\n",
       "│ 0749v1     ┆           ┆           ┆         ┆   ┆ 78:0,0:0, ┆ 42,259:9, ┆           ┆           │\n",
       "│            ┆           ┆           ┆         ┆   ┆ 0:72.19:0 ┆ 9:10,12:2 ┆           ┆           │\n",
       "│            ┆           ┆           ┆         ┆   ┆ .00…      ┆ 59.…      ┆           ┆           │\n",
       "│ chrUn_GL00 ┆ 62681     ┆ .         ┆ G       ┆ … ┆ 90:90:76, ┆ 193:193:9 ┆ .         ┆ .         │\n",
       "│ 0216v2     ┆           ┆           ┆         ┆   ┆ 99:8,10:1 ┆ 5,150:68, ┆           ┆           │\n",
       "│            ┆           ┆           ┆         ┆   ┆ 9,109:89. ┆ 88:56,373 ┆           ┆           │\n",
       "│            ┆           ┆           ┆         ┆   ┆ 42:…      ┆ :20…      ┆           ┆           │\n",
       "└────────────┴───────────┴───────────┴─────────┴───┴───────────┴───────────┴───────────┴───────────┘"
      ],
      "text/html": [
       "<div><style>\n",
       ".dataframe > thead > tr,\n",
       ".dataframe > tbody > tr {\n",
       "  text-align: right;\n",
       "  white-space: pre-wrap;\n",
       "}\n",
       "</style>\n",
       "<small>shape: (2_893, 13)</small><table border=\"1\" class=\"dataframe\"><thead><tr><th>#CHROM</th><th>POS</th><th>ID</th><th>REF</th><th>ALT</th><th>QUAL</th><th>FILTER</th><th>INFO</th><th>FORMAT</th><th>NORMAL</th><th>TUMOR</th><th>F111183</th><th>F111704</th></tr><tr><td>str</td><td>i64</td><td>str</td><td>str</td><td>str</td><td>str</td><td>str</td><td>str</td><td>str</td><td>str</td><td>str</td><td>str</td><td>str</td></tr></thead><tbody><tr><td>&quot;chr1&quot;</td><td>2081028</td><td>&quot;.&quot;</td><td>&quot;TG&quot;</td><td>&quot;T&quot;</td><td>&quot;.&quot;</td><td>&quot;PASS&quot;</td><td>&quot;SOMATIC;QSI=75;TQSI=1;NT=ref;Q…</td><td>&quot;GT:DP:DP2:TAR:TIR:TOR:DP50:FDP…</td><td>&quot;.:54:54:53,54:0,0:1,1:50.50:0.…</td><td>&quot;.:118:118:90,92:21,22:8,8:120.…</td><td>&quot;0|0:54:.:.:.:.:.:.:.:.:54,0:0.…</td><td>&quot;0|1:122:.:.:.:.:.:.:.:.:98,24:…</td></tr><tr><td>&quot;chr1&quot;</td><td>4031552</td><td>&quot;rs113283042;rs140543974;rs5768…</td><td>&quot;G&quot;</td><td>&quot;GT&quot;</td><td>&quot;.&quot;</td><td>&quot;PASS&quot;</td><td>&quot;SOMATIC;QSI=59;TQSI=1;NT=ref;Q…</td><td>&quot;DP:DP2:TAR:TIR:TOR:DP50:FDP50:…</td><td>&quot;45:45:42,42:0,0:3,3:44.36:0.25…</td><td>&quot;115:115:81,82:21,22:11,10:111.…</td><td>&quot;.&quot;</td><td>&quot;.&quot;</td></tr><tr><td>&quot;chr1&quot;</td><td>6481562</td><td>&quot;.&quot;</td><td>&quot;A&quot;</td><td>&quot;AATAT&quot;</td><td>&quot;.&quot;</td><td>&quot;PASS&quot;</td><td>&quot;SOMATIC;QSI=51;TQSI=1;NT=ref;Q…</td><td>&quot;DP:DP2:TAR:TIR:TOR:DP50:FDP50:…</td><td>&quot;43:43:36,38:3,3:4,3:44.67:1.32…</td><td>&quot;111:111:57,62:36,39:21,19:110.…</td><td>&quot;.&quot;</td><td>&quot;.&quot;</td></tr><tr><td>&quot;chr1&quot;</td><td>7156275</td><td>&quot;.&quot;</td><td>&quot;CA&quot;</td><td>&quot;C&quot;</td><td>&quot;.&quot;</td><td>&quot;PASS&quot;</td><td>&quot;SOMATIC;QSI=59;TQSI=1;NT=ref;Q…</td><td>&quot;DP:DP2:TAR:TIR:TOR:DP50:FDP50:…</td><td>&quot;39:39:28,31:0,0:12,9:39.78:2.4…</td><td>&quot;103:103:52,54:25,25:26,25:103.…</td><td>&quot;.&quot;</td><td>&quot;.&quot;</td></tr><tr><td>&quot;chr1&quot;</td><td>11633506</td><td>&quot;rs573016490&quot;</td><td>&quot;AT&quot;</td><td>&quot;A&quot;</td><td>&quot;.&quot;</td><td>&quot;PASS&quot;</td><td>&quot;SOMATIC;QSI=61;TQSI=2;NT=ref;Q…</td><td>&quot;GT:DP:DP2:TAR:TIR:TOR:DP50:FDP…</td><td>&quot;.:34:34:28,28:0,0:5,5:31.28:1.…</td><td>&quot;.:109:109:56,58:30,30:21,23:10…</td><td>&quot;0/0:24:.:.:.:.:.:.:.:.:24,0:0.…</td><td>&quot;0/1:70:.:.:.:.:.:.:.:.:42,28:0…</td></tr><tr><td>&hellip;</td><td>&hellip;</td><td>&hellip;</td><td>&hellip;</td><td>&hellip;</td><td>&hellip;</td><td>&hellip;</td><td>&hellip;</td><td>&hellip;</td><td>&hellip;</td><td>&hellip;</td><td>&hellip;</td><td>&hellip;</td></tr><tr><td>&quot;chrX&quot;</td><td>153296394</td><td>&quot;.&quot;</td><td>&quot;T&quot;</td><td>&quot;TA&quot;</td><td>&quot;.&quot;</td><td>&quot;PASS&quot;</td><td>&quot;AS_FilterStatus=SITE;AS_SB_TAB…</td><td>&quot;GT:AD:AF:DP:F1R2:F2R1:SB&quot;</td><td>&quot;.&quot;</td><td>&quot;.&quot;</td><td>&quot;0/0:12,0:0.068:12:5,0:6,0:3,9,…</td><td>&quot;0/1:14,46:0.761:60:10,20:3,21:…</td></tr><tr><td>&quot;chrX&quot;</td><td>153557881</td><td>&quot;rs781955274&quot;</td><td>&quot;A&quot;</td><td>&quot;AGC&quot;</td><td>&quot;.&quot;</td><td>&quot;PASS&quot;</td><td>&quot;SOMATIC;QSI=53;TQSI=1;NT=ref;Q…</td><td>&quot;DP:DP2:TAR:TIR:TOR:DP50:FDP50:…</td><td>&quot;18:18:16,17:0,0:2,1:20.00:2.61…</td><td>&quot;105:105:62,69:25,26:20,15:107.…</td><td>&quot;.&quot;</td><td>&quot;.&quot;</td></tr><tr><td>&quot;chrX&quot;</td><td>154696298</td><td>&quot;rs35105330&quot;</td><td>&quot;C&quot;</td><td>&quot;CA&quot;</td><td>&quot;.&quot;</td><td>&quot;PASS&quot;</td><td>&quot;SOMATIC;QSI=75;TQSI=1;NT=ref;Q…</td><td>&quot;GT:DP:DP2:TAR:TIR:TOR:DP50:FDP…</td><td>&quot;.:24:24:17,19:0,0:7,5:29.31:4.…</td><td>&quot;.:101:101:11,14:49,53:42,35:10…</td><td>&quot;0/0:9:.:.:.:.:.:.:.:.:9,0:0.07…</td><td>&quot;0/1:26:.:.:.:.:.:.:.:.:6,20:0.…</td></tr><tr><td>&quot;chrUn_KI270749v1&quot;</td><td>78140</td><td>&quot;.&quot;</td><td>&quot;ATATATG&quot;</td><td>&quot;A&quot;</td><td>&quot;.&quot;</td><td>&quot;PASS&quot;</td><td>&quot;SOMATIC;QSI=51;TQSI=1;NT=ref;Q…</td><td>&quot;DP:DP2:TAR:TIR:TOR:DP50:FDP50:…</td><td>&quot;75:75:75,78:0,0:0,0:72.19:0.00…</td><td>&quot;260:260:242,259:9,9:10,12:259.…</td><td>&quot;.&quot;</td><td>&quot;.&quot;</td></tr><tr><td>&quot;chrUn_GL000216v2&quot;</td><td>62681</td><td>&quot;.&quot;</td><td>&quot;G&quot;</td><td>&quot;GTCCAT&quot;</td><td>&quot;.&quot;</td><td>&quot;PASS&quot;</td><td>&quot;SOMATIC;QSI=93;TQSI=1;NT=ref;Q…</td><td>&quot;DP:DP2:TAR:TIR:TOR:DP50:FDP50:…</td><td>&quot;90:90:76,99:8,10:19,109:89.42:…</td><td>&quot;193:193:95,150:68,88:56,373:20…</td><td>&quot;.&quot;</td><td>&quot;.&quot;</td></tr></tbody></table></div>"
      ]
     },
     "execution_count": 16,
     "metadata": {},
     "output_type": "execute_result"
    }
   ],
   "execution_count": 16
  },
  {
   "metadata": {
    "ExecuteTime": {
     "end_time": "2025-02-10T22:42:48.508100Z",
     "start_time": "2025-02-10T22:42:48.495081Z"
    }
   },
   "cell_type": "code",
   "source": [
    "import polars as pl\n",
    "\n",
    "data_indels.select(\n",
    "    pl.col(\"#CHROM\", \"POS\", \"ID\", \"REF\", \"ALT\", \"FORMAT\", \"NORMAL\", \"TUMOR\", \"F111183\", \"F111704\")\n",
    ").row(4)"
   ],
   "outputs": [
    {
     "data": {
      "text/plain": [
       "('chr1',\n",
       " 11633506,\n",
       " 'rs573016490',\n",
       " 'AT',\n",
       " 'A',\n",
       " 'GT:DP:DP2:TAR:TIR:TOR:DP50:FDP50:SUBDP50:BCN50:AD:AF:F1R2:F2R1:SB',\n",
       " '.:34:34:28,28:0,0:5,5:31.28:1.37:0.00:0.03',\n",
       " '.:109:109:56,58:30,30:21,23:102.45:5.89:0.00:0.05',\n",
       " '0/0:24:.:.:.:.:.:.:.:.:24,0:0.036:14,0:9,0:9,15,0,0',\n",
       " '0/1:70:.:.:.:.:.:.:.:.:42,28:0.394:14,13:22,13:14,28,10,18')"
      ]
     },
     "execution_count": 17,
     "metadata": {},
     "output_type": "execute_result"
    }
   ],
   "execution_count": 17
  },
  {
   "cell_type": "code",
   "metadata": {
    "ExecuteTime": {
     "end_time": "2025-02-10T20:04:05.888833Z",
     "start_time": "2025-02-10T20:04:05.884235Z"
    }
   },
   "source": [
    "metadata_indels = pp.parse_vcf_metadata(metadata_raw_indels)\n",
    "metadata_snvs = pp.parse_vcf_metadata(metadata_raw_snvs)"
   ],
   "outputs": [],
   "execution_count": 6
  },
  {
   "metadata": {
    "ExecuteTime": {
     "end_time": "2025-02-10T20:04:05.922502Z",
     "start_time": "2025-02-10T20:04:05.911597Z"
    }
   },
   "cell_type": "code",
   "source": [
    "# TODO: figure out what's going on here that I need to add 1. should get all of the metadata and not need a length adjustment\n",
    "data_indels = pp.read_vcf_data(DATA_PATH / \"sample.indels.vcf\", len(metadata_raw_indels) + 1)\n",
    "data_indels"
   ],
   "outputs": [
    {
     "data": {
      "text/plain": [
       "shape: (2_893, 13)\n",
       "┌────────────┬───────────┬───────────┬─────────┬───┬───────────┬───────────┬───────────┬───────────┐\n",
       "│ #CHROM     ┆ POS       ┆ ID        ┆ REF     ┆ … ┆ NORMAL    ┆ TUMOR     ┆ F111183   ┆ F111704   │\n",
       "│ ---        ┆ ---       ┆ ---       ┆ ---     ┆   ┆ ---       ┆ ---       ┆ ---       ┆ ---       │\n",
       "│ str        ┆ i64       ┆ str       ┆ str     ┆   ┆ str       ┆ str       ┆ str       ┆ str       │\n",
       "╞════════════╪═══════════╪═══════════╪═════════╪═══╪═══════════╪═══════════╪═══════════╪═══════════╡\n",
       "│ chr1       ┆ 2081028   ┆ .         ┆ TG      ┆ … ┆ .:54:54:5 ┆ .:118:118 ┆ 0|0:54:.: ┆ 0|1:122:. │\n",
       "│            ┆           ┆           ┆         ┆   ┆ 3,54:0,0: ┆ :90,92:21 ┆ .:.:.:.:. ┆ :.:.:.:.: │\n",
       "│            ┆           ┆           ┆         ┆   ┆ 1,1:50.50 ┆ ,22:8,8:1 ┆ :.:.:54,0 ┆ .:.:.:98, │\n",
       "│            ┆           ┆           ┆         ┆   ┆ :0.…      ┆ 20.…      ┆ :0.…      ┆ 24:…      │\n",
       "│ chr1       ┆ 4031552   ┆ rs1132830 ┆ G       ┆ … ┆ 45:45:42, ┆ 115:115:8 ┆ .         ┆ .         │\n",
       "│            ┆           ┆ 42;rs1405 ┆         ┆   ┆ 42:0,0:3, ┆ 1,82:21,2 ┆           ┆           │\n",
       "│            ┆           ┆ 43974;rs5 ┆         ┆   ┆ 3:44.36:0 ┆ 2:11,10:1 ┆           ┆           │\n",
       "│            ┆           ┆ 768…      ┆         ┆   ┆ .25…      ┆ 11.…      ┆           ┆           │\n",
       "│ chr1       ┆ 6481562   ┆ .         ┆ A       ┆ … ┆ 43:43:36, ┆ 111:111:5 ┆ .         ┆ .         │\n",
       "│            ┆           ┆           ┆         ┆   ┆ 38:3,3:4, ┆ 7,62:36,3 ┆           ┆           │\n",
       "│            ┆           ┆           ┆         ┆   ┆ 3:44.67:1 ┆ 9:21,19:1 ┆           ┆           │\n",
       "│            ┆           ┆           ┆         ┆   ┆ .32…      ┆ 10.…      ┆           ┆           │\n",
       "│ chr1       ┆ 7156275   ┆ .         ┆ CA      ┆ … ┆ 39:39:28, ┆ 103:103:5 ┆ .         ┆ .         │\n",
       "│            ┆           ┆           ┆         ┆   ┆ 31:0,0:12 ┆ 2,54:25,2 ┆           ┆           │\n",
       "│            ┆           ┆           ┆         ┆   ┆ ,9:39.78: ┆ 5:26,25:1 ┆           ┆           │\n",
       "│            ┆           ┆           ┆         ┆   ┆ 2.4…      ┆ 03.…      ┆           ┆           │\n",
       "│ chr1       ┆ 11633506  ┆ rs5730164 ┆ AT      ┆ … ┆ .:34:34:2 ┆ .:109:109 ┆ 0/0:24:.: ┆ 0/1:70:.: │\n",
       "│            ┆           ┆ 90        ┆         ┆   ┆ 8,28:0,0: ┆ :56,58:30 ┆ .:.:.:.:. ┆ .:.:.:.:. │\n",
       "│            ┆           ┆           ┆         ┆   ┆ 5,5:31.28 ┆ ,30:21,23 ┆ :.:.:24,0 ┆ :.:.:42,2 │\n",
       "│            ┆           ┆           ┆         ┆   ┆ :1.…      ┆ :10…      ┆ :0.…      ┆ 8:0…      │\n",
       "│ …          ┆ …         ┆ …         ┆ …       ┆ … ┆ …         ┆ …         ┆ …         ┆ …         │\n",
       "│ chrX       ┆ 153296394 ┆ .         ┆ T       ┆ … ┆ .         ┆ .         ┆ 0/0:12,0: ┆ 0/1:14,46 │\n",
       "│            ┆           ┆           ┆         ┆   ┆           ┆           ┆ 0.068:12: ┆ :0.761:60 │\n",
       "│            ┆           ┆           ┆         ┆   ┆           ┆           ┆ 5,0:6,0:3 ┆ :10,20:3, │\n",
       "│            ┆           ┆           ┆         ┆   ┆           ┆           ┆ ,9,…      ┆ 21:…      │\n",
       "│ chrX       ┆ 153557881 ┆ rs7819552 ┆ A       ┆ … ┆ 18:18:16, ┆ 105:105:6 ┆ .         ┆ .         │\n",
       "│            ┆           ┆ 74        ┆         ┆   ┆ 17:0,0:2, ┆ 2,69:25,2 ┆           ┆           │\n",
       "│            ┆           ┆           ┆         ┆   ┆ 1:20.00:2 ┆ 6:20,15:1 ┆           ┆           │\n",
       "│            ┆           ┆           ┆         ┆   ┆ .61…      ┆ 07.…      ┆           ┆           │\n",
       "│ chrX       ┆ 154696298 ┆ rs3510533 ┆ C       ┆ … ┆ .:24:24:1 ┆ .:101:101 ┆ 0/0:9:.:. ┆ 0/1:26:.: │\n",
       "│            ┆           ┆ 0         ┆         ┆   ┆ 7,19:0,0: ┆ :11,14:49 ┆ :.:.:.:.: ┆ .:.:.:.:. │\n",
       "│            ┆           ┆           ┆         ┆   ┆ 7,5:29.31 ┆ ,53:42,35 ┆ .:.:9,0:0 ┆ :.:.:6,20 │\n",
       "│            ┆           ┆           ┆         ┆   ┆ :4.…      ┆ :10…      ┆ .07…      ┆ :0.…      │\n",
       "│ chrUn_KI27 ┆ 78140     ┆ .         ┆ ATATATG ┆ … ┆ 75:75:75, ┆ 260:260:2 ┆ .         ┆ .         │\n",
       "│ 0749v1     ┆           ┆           ┆         ┆   ┆ 78:0,0:0, ┆ 42,259:9, ┆           ┆           │\n",
       "│            ┆           ┆           ┆         ┆   ┆ 0:72.19:0 ┆ 9:10,12:2 ┆           ┆           │\n",
       "│            ┆           ┆           ┆         ┆   ┆ .00…      ┆ 59.…      ┆           ┆           │\n",
       "│ chrUn_GL00 ┆ 62681     ┆ .         ┆ G       ┆ … ┆ 90:90:76, ┆ 193:193:9 ┆ .         ┆ .         │\n",
       "│ 0216v2     ┆           ┆           ┆         ┆   ┆ 99:8,10:1 ┆ 5,150:68, ┆           ┆           │\n",
       "│            ┆           ┆           ┆         ┆   ┆ 9,109:89. ┆ 88:56,373 ┆           ┆           │\n",
       "│            ┆           ┆           ┆         ┆   ┆ 42:…      ┆ :20…      ┆           ┆           │\n",
       "└────────────┴───────────┴───────────┴─────────┴───┴───────────┴───────────┴───────────┴───────────┘"
      ],
      "text/html": [
       "<div><style>\n",
       ".dataframe > thead > tr,\n",
       ".dataframe > tbody > tr {\n",
       "  text-align: right;\n",
       "  white-space: pre-wrap;\n",
       "}\n",
       "</style>\n",
       "<small>shape: (2_893, 13)</small><table border=\"1\" class=\"dataframe\"><thead><tr><th>#CHROM</th><th>POS</th><th>ID</th><th>REF</th><th>ALT</th><th>QUAL</th><th>FILTER</th><th>INFO</th><th>FORMAT</th><th>NORMAL</th><th>TUMOR</th><th>F111183</th><th>F111704</th></tr><tr><td>str</td><td>i64</td><td>str</td><td>str</td><td>str</td><td>str</td><td>str</td><td>str</td><td>str</td><td>str</td><td>str</td><td>str</td><td>str</td></tr></thead><tbody><tr><td>&quot;chr1&quot;</td><td>2081028</td><td>&quot;.&quot;</td><td>&quot;TG&quot;</td><td>&quot;T&quot;</td><td>&quot;.&quot;</td><td>&quot;PASS&quot;</td><td>&quot;SOMATIC;QSI=75;TQSI=1;NT=ref;Q…</td><td>&quot;GT:DP:DP2:TAR:TIR:TOR:DP50:FDP…</td><td>&quot;.:54:54:53,54:0,0:1,1:50.50:0.…</td><td>&quot;.:118:118:90,92:21,22:8,8:120.…</td><td>&quot;0|0:54:.:.:.:.:.:.:.:.:54,0:0.…</td><td>&quot;0|1:122:.:.:.:.:.:.:.:.:98,24:…</td></tr><tr><td>&quot;chr1&quot;</td><td>4031552</td><td>&quot;rs113283042;rs140543974;rs5768…</td><td>&quot;G&quot;</td><td>&quot;GT&quot;</td><td>&quot;.&quot;</td><td>&quot;PASS&quot;</td><td>&quot;SOMATIC;QSI=59;TQSI=1;NT=ref;Q…</td><td>&quot;DP:DP2:TAR:TIR:TOR:DP50:FDP50:…</td><td>&quot;45:45:42,42:0,0:3,3:44.36:0.25…</td><td>&quot;115:115:81,82:21,22:11,10:111.…</td><td>&quot;.&quot;</td><td>&quot;.&quot;</td></tr><tr><td>&quot;chr1&quot;</td><td>6481562</td><td>&quot;.&quot;</td><td>&quot;A&quot;</td><td>&quot;AATAT&quot;</td><td>&quot;.&quot;</td><td>&quot;PASS&quot;</td><td>&quot;SOMATIC;QSI=51;TQSI=1;NT=ref;Q…</td><td>&quot;DP:DP2:TAR:TIR:TOR:DP50:FDP50:…</td><td>&quot;43:43:36,38:3,3:4,3:44.67:1.32…</td><td>&quot;111:111:57,62:36,39:21,19:110.…</td><td>&quot;.&quot;</td><td>&quot;.&quot;</td></tr><tr><td>&quot;chr1&quot;</td><td>7156275</td><td>&quot;.&quot;</td><td>&quot;CA&quot;</td><td>&quot;C&quot;</td><td>&quot;.&quot;</td><td>&quot;PASS&quot;</td><td>&quot;SOMATIC;QSI=59;TQSI=1;NT=ref;Q…</td><td>&quot;DP:DP2:TAR:TIR:TOR:DP50:FDP50:…</td><td>&quot;39:39:28,31:0,0:12,9:39.78:2.4…</td><td>&quot;103:103:52,54:25,25:26,25:103.…</td><td>&quot;.&quot;</td><td>&quot;.&quot;</td></tr><tr><td>&quot;chr1&quot;</td><td>11633506</td><td>&quot;rs573016490&quot;</td><td>&quot;AT&quot;</td><td>&quot;A&quot;</td><td>&quot;.&quot;</td><td>&quot;PASS&quot;</td><td>&quot;SOMATIC;QSI=61;TQSI=2;NT=ref;Q…</td><td>&quot;GT:DP:DP2:TAR:TIR:TOR:DP50:FDP…</td><td>&quot;.:34:34:28,28:0,0:5,5:31.28:1.…</td><td>&quot;.:109:109:56,58:30,30:21,23:10…</td><td>&quot;0/0:24:.:.:.:.:.:.:.:.:24,0:0.…</td><td>&quot;0/1:70:.:.:.:.:.:.:.:.:42,28:0…</td></tr><tr><td>&hellip;</td><td>&hellip;</td><td>&hellip;</td><td>&hellip;</td><td>&hellip;</td><td>&hellip;</td><td>&hellip;</td><td>&hellip;</td><td>&hellip;</td><td>&hellip;</td><td>&hellip;</td><td>&hellip;</td><td>&hellip;</td></tr><tr><td>&quot;chrX&quot;</td><td>153296394</td><td>&quot;.&quot;</td><td>&quot;T&quot;</td><td>&quot;TA&quot;</td><td>&quot;.&quot;</td><td>&quot;PASS&quot;</td><td>&quot;AS_FilterStatus=SITE;AS_SB_TAB…</td><td>&quot;GT:AD:AF:DP:F1R2:F2R1:SB&quot;</td><td>&quot;.&quot;</td><td>&quot;.&quot;</td><td>&quot;0/0:12,0:0.068:12:5,0:6,0:3,9,…</td><td>&quot;0/1:14,46:0.761:60:10,20:3,21:…</td></tr><tr><td>&quot;chrX&quot;</td><td>153557881</td><td>&quot;rs781955274&quot;</td><td>&quot;A&quot;</td><td>&quot;AGC&quot;</td><td>&quot;.&quot;</td><td>&quot;PASS&quot;</td><td>&quot;SOMATIC;QSI=53;TQSI=1;NT=ref;Q…</td><td>&quot;DP:DP2:TAR:TIR:TOR:DP50:FDP50:…</td><td>&quot;18:18:16,17:0,0:2,1:20.00:2.61…</td><td>&quot;105:105:62,69:25,26:20,15:107.…</td><td>&quot;.&quot;</td><td>&quot;.&quot;</td></tr><tr><td>&quot;chrX&quot;</td><td>154696298</td><td>&quot;rs35105330&quot;</td><td>&quot;C&quot;</td><td>&quot;CA&quot;</td><td>&quot;.&quot;</td><td>&quot;PASS&quot;</td><td>&quot;SOMATIC;QSI=75;TQSI=1;NT=ref;Q…</td><td>&quot;GT:DP:DP2:TAR:TIR:TOR:DP50:FDP…</td><td>&quot;.:24:24:17,19:0,0:7,5:29.31:4.…</td><td>&quot;.:101:101:11,14:49,53:42,35:10…</td><td>&quot;0/0:9:.:.:.:.:.:.:.:.:9,0:0.07…</td><td>&quot;0/1:26:.:.:.:.:.:.:.:.:6,20:0.…</td></tr><tr><td>&quot;chrUn_KI270749v1&quot;</td><td>78140</td><td>&quot;.&quot;</td><td>&quot;ATATATG&quot;</td><td>&quot;A&quot;</td><td>&quot;.&quot;</td><td>&quot;PASS&quot;</td><td>&quot;SOMATIC;QSI=51;TQSI=1;NT=ref;Q…</td><td>&quot;DP:DP2:TAR:TIR:TOR:DP50:FDP50:…</td><td>&quot;75:75:75,78:0,0:0,0:72.19:0.00…</td><td>&quot;260:260:242,259:9,9:10,12:259.…</td><td>&quot;.&quot;</td><td>&quot;.&quot;</td></tr><tr><td>&quot;chrUn_GL000216v2&quot;</td><td>62681</td><td>&quot;.&quot;</td><td>&quot;G&quot;</td><td>&quot;GTCCAT&quot;</td><td>&quot;.&quot;</td><td>&quot;PASS&quot;</td><td>&quot;SOMATIC;QSI=93;TQSI=1;NT=ref;Q…</td><td>&quot;DP:DP2:TAR:TIR:TOR:DP50:FDP50:…</td><td>&quot;90:90:76,99:8,10:19,109:89.42:…</td><td>&quot;193:193:95,150:68,88:56,373:20…</td><td>&quot;.&quot;</td><td>&quot;.&quot;</td></tr></tbody></table></div>"
      ]
     },
     "execution_count": 7,
     "metadata": {},
     "output_type": "execute_result"
    }
   ],
   "execution_count": 7
  },
  {
   "cell_type": "code",
   "metadata": {
    "ExecuteTime": {
     "end_time": "2025-02-10T20:04:06.737985Z",
     "start_time": "2025-02-10T20:04:05.984885Z"
    }
   },
   "source": [
    "# concat here since according to docs merge is used when the samples between files are SHARED\n",
    "pp.vcf_concat(\n",
    "    DATA_PATH / \"sample.indels.vcf\", \n",
    "    DATA_PATH / \"sample.snvs.vcf\", \n",
    "    temp_dir=DATA_PATH / \"short_read_tmp/\")"
   ],
   "outputs": [
    {
     "name": "stdout",
     "output_type": "stream",
     "text": [
      "CompletedProcess(args=['bcftools', 'concat', '-a', '../data/short_read_tmp/vcf_1_compatible.vcf.gz', '../data/short_read_tmp/vcf_2_compatible.vcf.gz', '-o', PosixPath('../data/short_read_tmp/concat.vcf.gz'), '-O', 'b'], returncode=0, stdout=b'', stderr=b'Checking the headers and starting positions of 2 files\\n')\n"
     ]
    },
    {
     "data": {
      "text/plain": [
       "PosixPath('../data/short_read_tmp/concat.vcf.gz')"
      ]
     },
     "execution_count": 8,
     "metadata": {},
     "output_type": "execute_result"
    }
   ],
   "execution_count": 8
  },
  {
   "cell_type": "code",
   "metadata": {
    "ExecuteTime": {
     "end_time": "2025-02-10T20:04:56.999883Z",
     "start_time": "2025-02-10T20:04:06.755233Z"
    }
   },
   "source": [
    "sample_rename = [\n",
    "    {\"SAMPLE\": \"F138871\"},\n",
    "    {\"SAMPLE\": \"F138872\"},\n",
    "]\n",
    "\n",
    "# merge here since according to docs merge is used when the samples between files are DIFFERENT\n",
    "pp.vcf_merge(\n",
    "    DATA_PATH / \"sample.longread_F138871.vcf\", \n",
    "    DATA_PATH / \"sample.longread_F138872.vcf\", \n",
    "    sample_rename=sample_rename,\n",
    "    temp_dir=DATA_PATH / \"long_read_tmp/\"\n",
    ")"
   ],
   "outputs": [
    {
     "data": {
      "text/plain": [
       "PosixPath('../data/long_read_tmp/merge.vcf.gz')"
      ]
     },
     "execution_count": 9,
     "metadata": {},
     "output_type": "execute_result"
    }
   ],
   "execution_count": 9
  },
  {
   "metadata": {
    "ExecuteTime": {
     "end_time": "2025-02-10T20:05:48.337445Z",
     "start_time": "2025-02-10T20:05:03.345095Z"
    }
   },
   "cell_type": "code",
   "source": [
    "# question here is should we merge since the samples are technically different. or if we should concatenate since the conditions of the sample are technically the same (from the same source?) just sequenced using different technologies\n",
    "\n",
    "concat_vcf = Path(\"../data/short_read_tmp/concat.vcf.gz\")\n",
    "merge_vcf = Path(\"../data/long_read_tmp/merge.vcf.gz\")\n",
    "\n",
    "# maybe use concat to start since it's faster\n",
    "# rename samples to make concatenation possible\n",
    "sample_rename_short = {\n",
    "    \"F111183\": \"NORMAL\",\n",
    "    \"F111704\": \"TUMOR\",\n",
    "}\n",
    "pp.vcf_rename(\n",
    "    concat_vcf,\n",
    "    sample_rename_short,\n",
    ")\n",
    "\n",
    "sample_rename_long = {\n",
    "    \"F138871\": \"NORMAL\",\n",
    "    \"F138872\": \"TUMOR\",\n",
    "}\n",
    "pp.vcf_rename(\n",
    "    merge_vcf,\n",
    "    sample_rename_long,\n",
    ")\n",
    "\n",
    "# then concat\n",
    "pp.vcf_concat(\n",
    "    concat_vcf,\n",
    "    merge_vcf,\n",
    "    temp_dir=DATA_PATH / \"final_tmp/\"\n",
    ")"
   ],
   "outputs": [
    {
     "name": "stdout",
     "output_type": "stream",
     "text": [
      "CompletedProcess(args=['bcftools', 'concat', '-a', '../data/final_tmp/vcf_1_compatible.vcf.gz', '../data/final_tmp/vcf_2_compatible.vcf.gz', '-o', PosixPath('../data/final_tmp/concat.vcf.gz'), '-O', 'b'], returncode=0, stdout=b'', stderr=b'Checking the headers and starting positions of 2 files\\n[W::bcf_hdr_merge] Trying to combine \"AF\" tag definitions of different lengths\\n')\n"
     ]
    },
    {
     "data": {
      "text/plain": [
       "PosixPath('../data/final_tmp/concat.vcf.gz')"
      ]
     },
     "execution_count": 10,
     "metadata": {},
     "output_type": "execute_result"
    }
   ],
   "execution_count": 10
  },
  {
   "metadata": {
    "ExecuteTime": {
     "end_time": "2025-02-10T22:25:55.399965Z",
     "start_time": "2025-02-10T22:25:55.396315Z"
    }
   },
   "cell_type": "code",
   "source": [
    "import re\n",
    "\n",
    "with open(\"/Users/christopherteng/github_repos/jones_lab/data/short_read_tmp/sample_rename.txt\", \"r\") as infile:\n",
    "    print(\n",
    "        {\n",
    "            key: value for key, value in map(\n",
    "                lambda x: re.split(r\"\\s\", x.strip()), infile.readlines()\n",
    "            )\n",
    "        }\n",
    "    )"
   ],
   "outputs": [
    {
     "name": "stdout",
     "output_type": "stream",
     "text": [
      "{'F111704': 'TUMOR', 'F111183': 'NORMAL'}\n"
     ]
    }
   ],
   "execution_count": 10
  },
  {
   "metadata": {},
   "cell_type": "code",
   "outputs": [],
   "execution_count": null,
   "source": ""
  }
 ],
 "metadata": {
  "kernelspec": {
   "display_name": ".venv",
   "language": "python",
   "name": "python3"
  },
  "language_info": {
   "codemirror_mode": {
    "name": "ipython",
    "version": 3
   },
   "file_extension": ".py",
   "mimetype": "text/x-python",
   "name": "python",
   "nbconvert_exporter": "python",
   "pygments_lexer": "ipython3",
   "version": "3.12.5"
  }
 },
 "nbformat": 4,
 "nbformat_minor": 2
}
