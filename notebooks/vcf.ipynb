{
 "cells": [
  {
   "cell_type": "code",
   "execution_count": 1,
   "metadata": {},
   "outputs": [],
   "source": [
    "import csv\n",
    "import re\n",
    "import subprocess\n",
    "from enum import Enum\n",
    "from pathlib import Path\n",
    "from typing import Union\n",
    "\n",
    "import polars as pl\n",
    "from polars import selectors as cs"
   ]
  },
  {
   "cell_type": "code",
   "execution_count": 2,
   "metadata": {},
   "outputs": [],
   "source": [
    "import vcf_processing.models as models\n",
    "import vcf_processing.preprocessing as pp"
   ]
  },
  {
   "cell_type": "code",
   "execution_count": 3,
   "metadata": {},
   "outputs": [],
   "source": [
    "# dev: for POG1297\n",
    "\n",
    "DATA_PATH = Path(\"../data/\")"
   ]
  },
  {
   "cell_type": "code",
   "execution_count": 4,
   "metadata": {},
   "outputs": [],
   "source": [
    "metadata_raw_indels, header_indels = pp.read_vcf_metadata(DATA_PATH / \"sample.indels.vcf\")\n",
    "metadata_raw_snvs, header_indels = pp.read_vcf_metadata(DATA_PATH / \"sample.snvs.vcf\")"
   ]
  },
  {
   "cell_type": "code",
   "execution_count": 5,
   "metadata": {},
   "outputs": [],
   "source": [
    "metadata_indels = pp.parse_vcf_metadata(metadata_raw_indels)\n",
    "metadata_snvs = pp.parse_vcf_metadata(metadata_raw_snvs)"
   ]
  },
  {
   "cell_type": "code",
   "execution_count": 6,
   "metadata": {},
   "outputs": [
    {
     "name": "stderr",
     "output_type": "stream",
     "text": [
      "Checking the headers and starting positions of 2 files\n"
     ]
    },
    {
     "data": {
      "text/plain": [
       "PosixPath('../data/short_read_tmp/concat.vcf.gz')"
      ]
     },
     "execution_count": 6,
     "metadata": {},
     "output_type": "execute_result"
    }
   ],
   "source": [
    "pp.vcf_concat(\n",
    "    DATA_PATH / \"sample.indels.vcf\", \n",
    "    DATA_PATH / \"sample.snvs.vcf\", \n",
    "    temp_dir=DATA_PATH / \"short_read_tmp/\")"
   ]
  },
  {
   "cell_type": "code",
   "execution_count": 7,
   "metadata": {},
   "outputs": [
    {
     "name": "stderr",
     "output_type": "stream",
     "text": [
      "Error reading the --samples file \"SAMPLE F138871\"\n"
     ]
    },
    {
     "ename": "CalledProcessError",
     "evalue": "Command '['bcftools', 'reheader', PosixPath('../data/long_read_tmp/sample.longread_F138871.vcf.gz'), '-s', 'SAMPLE F138871', '-o', PosixPath('../data/long_read_tmp/vcf_1_compatible.vcf.gz')]' returned non-zero exit status 255.",
     "output_type": "error",
     "traceback": [
      "\u001b[0;31m---------------------------------------------------------------------------\u001b[0m",
      "\u001b[0;31mCalledProcessError\u001b[0m                        Traceback (most recent call last)",
      "Cell \u001b[0;32mIn[7], line 6\u001b[0m\n\u001b[1;32m      1\u001b[0m sample_rename \u001b[38;5;241m=\u001b[39m [\n\u001b[1;32m      2\u001b[0m     {\u001b[38;5;124m\"\u001b[39m\u001b[38;5;124mSAMPLE\u001b[39m\u001b[38;5;124m\"\u001b[39m: \u001b[38;5;124m\"\u001b[39m\u001b[38;5;124mF138871\u001b[39m\u001b[38;5;124m\"\u001b[39m},\n\u001b[1;32m      3\u001b[0m     {\u001b[38;5;124m\"\u001b[39m\u001b[38;5;124mSAMPLE\u001b[39m\u001b[38;5;124m\"\u001b[39m: \u001b[38;5;124m\"\u001b[39m\u001b[38;5;124mF138872\u001b[39m\u001b[38;5;124m\"\u001b[39m},\n\u001b[1;32m      4\u001b[0m ]\n\u001b[0;32m----> 6\u001b[0m \u001b[43mpp\u001b[49m\u001b[38;5;241;43m.\u001b[39;49m\u001b[43mvcf_merge\u001b[49m\u001b[43m(\u001b[49m\n\u001b[1;32m      7\u001b[0m \u001b[43m    \u001b[49m\u001b[43mDATA_PATH\u001b[49m\u001b[43m \u001b[49m\u001b[38;5;241;43m/\u001b[39;49m\u001b[43m \u001b[49m\u001b[38;5;124;43m\"\u001b[39;49m\u001b[38;5;124;43msample.longread_F138871.vcf\u001b[39;49m\u001b[38;5;124;43m\"\u001b[39;49m\u001b[43m,\u001b[49m\u001b[43m \u001b[49m\n\u001b[1;32m      8\u001b[0m \u001b[43m    \u001b[49m\u001b[43mDATA_PATH\u001b[49m\u001b[43m \u001b[49m\u001b[38;5;241;43m/\u001b[39;49m\u001b[43m \u001b[49m\u001b[38;5;124;43m\"\u001b[39;49m\u001b[38;5;124;43msample.longread_F138872.vcf\u001b[39;49m\u001b[38;5;124;43m\"\u001b[39;49m\u001b[43m,\u001b[49m\u001b[43m \u001b[49m\n\u001b[1;32m      9\u001b[0m \u001b[43m    \u001b[49m\u001b[43msample_rename\u001b[49m\u001b[38;5;241;43m=\u001b[39;49m\u001b[43msample_rename\u001b[49m\u001b[43m,\u001b[49m\n\u001b[1;32m     10\u001b[0m \u001b[43m    \u001b[49m\u001b[43mtemp_dir\u001b[49m\u001b[38;5;241;43m=\u001b[39;49m\u001b[43mDATA_PATH\u001b[49m\u001b[43m \u001b[49m\u001b[38;5;241;43m/\u001b[39;49m\u001b[43m \u001b[49m\u001b[38;5;124;43m\"\u001b[39;49m\u001b[38;5;124;43mlong_read_tmp/\u001b[39;49m\u001b[38;5;124;43m\"\u001b[39;49m\n\u001b[1;32m     11\u001b[0m \u001b[43m)\u001b[49m\n",
      "File \u001b[0;32m~/github_repos/jones_lab/src/vcf_processing/preprocessing.py:398\u001b[0m, in \u001b[0;36mvcf_merge\u001b[0;34m(vcf_1_path, vcf_2_path, sample_rename, temp_dir, output, *args)\u001b[0m\n\u001b[1;32m    388\u001b[0m         subprocess\u001b[38;5;241m.\u001b[39mrun(\n\u001b[1;32m    389\u001b[0m             [\n\u001b[1;32m    390\u001b[0m                 \u001b[38;5;124m\"\u001b[39m\u001b[38;5;124mbcftools\u001b[39m\u001b[38;5;124m\"\u001b[39m, \n\u001b[0;32m   (...)\u001b[0m\n\u001b[1;32m    394\u001b[0m             check\u001b[38;5;241m=\u001b[39m\u001b[38;5;28;01mTrue\u001b[39;00m,\n\u001b[1;32m    395\u001b[0m         )\n\u001b[1;32m    397\u001b[0m \u001b[38;5;28;01mif\u001b[39;00m sample_rename \u001b[38;5;129;01mis\u001b[39;00m \u001b[38;5;129;01mnot\u001b[39;00m \u001b[38;5;28;01mNone\u001b[39;00m:\n\u001b[0;32m--> 398\u001b[0m     \u001b[43mmake_merge_compatible\u001b[49m\u001b[43m(\u001b[49m\u001b[43mvcf_1_path\u001b[49m\u001b[43m,\u001b[49m\u001b[43m \u001b[49m\u001b[43mvcf_2_path\u001b[49m\u001b[43m,\u001b[49m\u001b[43m \u001b[49m\u001b[43msample_rename\u001b[49m\u001b[43m,\u001b[49m\u001b[43m \u001b[49m\u001b[43mtemp_dir\u001b[49m\u001b[43m)\u001b[49m\n\u001b[1;32m    400\u001b[0m \u001b[38;5;28;01melse\u001b[39;00m:\n\u001b[1;32m    401\u001b[0m     subprocess\u001b[38;5;241m.\u001b[39mrun(\n\u001b[1;32m    402\u001b[0m         [\n\u001b[1;32m    403\u001b[0m             \u001b[38;5;124m\"\u001b[39m\u001b[38;5;124mbcftools\u001b[39m\u001b[38;5;124m\"\u001b[39m,\n\u001b[0;32m   (...)\u001b[0m\n\u001b[1;32m    413\u001b[0m         check\u001b[38;5;241m=\u001b[39m\u001b[38;5;28;01mTrue\u001b[39;00m,\n\u001b[1;32m    414\u001b[0m     )\n",
      "File \u001b[0;32m~/github_repos/jones_lab/src/vcf_processing/preprocessing.py:319\u001b[0m, in \u001b[0;36mmake_merge_compatible\u001b[0;34m(vcf_1_path, vcf_2_path, sample_rename, temp_dir)\u001b[0m\n\u001b[1;32m    315\u001b[0m \u001b[38;5;28;01mfor\u001b[39;00m file_idx, vcf_path \u001b[38;5;129;01min\u001b[39;00m \u001b[38;5;28menumerate\u001b[39m([vcf_1_path, vcf_2_path]):\n\u001b[1;32m    316\u001b[0m     rename_args \u001b[38;5;241m=\u001b[39m \u001b[38;5;124m\"\u001b[39m\u001b[38;5;130;01m\\n\u001b[39;00m\u001b[38;5;124m\"\u001b[39m\u001b[38;5;241m.\u001b[39mjoin(\n\u001b[1;32m    317\u001b[0m         [\u001b[38;5;124mf\u001b[39m\u001b[38;5;124m\"\u001b[39m\u001b[38;5;132;01m{\u001b[39;00mold_name\u001b[38;5;132;01m}\u001b[39;00m\u001b[38;5;124m \u001b[39m\u001b[38;5;132;01m{\u001b[39;00mnew_name\u001b[38;5;132;01m}\u001b[39;00m\u001b[38;5;124m\"\u001b[39m \u001b[38;5;28;01mfor\u001b[39;00m old_name, new_name \u001b[38;5;129;01min\u001b[39;00m sample_rename[file_idx]\u001b[38;5;241m.\u001b[39mitems()]\n\u001b[1;32m    318\u001b[0m     )\n\u001b[0;32m--> 319\u001b[0m     \u001b[43msubprocess\u001b[49m\u001b[38;5;241;43m.\u001b[39;49m\u001b[43mrun\u001b[49m\u001b[43m(\u001b[49m\n\u001b[1;32m    320\u001b[0m \u001b[43m        \u001b[49m\u001b[43m[\u001b[49m\n\u001b[1;32m    321\u001b[0m \u001b[43m            \u001b[49m\u001b[38;5;124;43m\"\u001b[39;49m\u001b[38;5;124;43mbcftools\u001b[39;49m\u001b[38;5;124;43m\"\u001b[39;49m\u001b[43m,\u001b[49m\n\u001b[1;32m    322\u001b[0m \u001b[43m            \u001b[49m\u001b[38;5;124;43m\"\u001b[39;49m\u001b[38;5;124;43mreheader\u001b[39;49m\u001b[38;5;124;43m\"\u001b[39;49m\u001b[43m,\u001b[49m\n\u001b[1;32m    323\u001b[0m \u001b[43m            \u001b[49m\u001b[43mvcf_path\u001b[49m\u001b[43m,\u001b[49m\n\u001b[1;32m    324\u001b[0m \u001b[43m            \u001b[49m\u001b[38;5;124;43m\"\u001b[39;49m\u001b[38;5;124;43m-s\u001b[39;49m\u001b[38;5;124;43m\"\u001b[39;49m\u001b[43m,\u001b[49m\n\u001b[1;32m    325\u001b[0m \u001b[43m            \u001b[49m\u001b[43mrename_args\u001b[49m\u001b[43m,\u001b[49m\n\u001b[1;32m    326\u001b[0m \u001b[43m            \u001b[49m\u001b[38;5;124;43m\"\u001b[39;49m\u001b[38;5;124;43m-o\u001b[39;49m\u001b[38;5;124;43m\"\u001b[39;49m\u001b[43m,\u001b[49m\n\u001b[1;32m    327\u001b[0m \u001b[43m            \u001b[49m\u001b[43mtemp_dir\u001b[49m\u001b[43m \u001b[49m\u001b[38;5;241;43m/\u001b[39;49m\u001b[43m \u001b[49m\u001b[43moutputs\u001b[49m\u001b[43m[\u001b[49m\u001b[43mfile_idx\u001b[49m\u001b[43m]\u001b[49m\u001b[43m,\u001b[49m\n\u001b[1;32m    328\u001b[0m \u001b[43m        \u001b[49m\u001b[43m]\u001b[49m\u001b[43m,\u001b[49m\n\u001b[1;32m    329\u001b[0m \u001b[43m        \u001b[49m\u001b[43mcheck\u001b[49m\u001b[38;5;241;43m=\u001b[39;49m\u001b[38;5;28;43;01mTrue\u001b[39;49;00m\u001b[43m,\u001b[49m\n\u001b[1;32m    330\u001b[0m \u001b[43m    \u001b[49m\u001b[43m)\u001b[49m\n\u001b[1;32m    333\u001b[0m \u001b[38;5;28;01mreturn\u001b[39;00m outputs\n",
      "File \u001b[0;32m~/.pyenv/versions/3.12.5/lib/python3.12/subprocess.py:571\u001b[0m, in \u001b[0;36mrun\u001b[0;34m(input, capture_output, timeout, check, *popenargs, **kwargs)\u001b[0m\n\u001b[1;32m    569\u001b[0m     retcode \u001b[38;5;241m=\u001b[39m process\u001b[38;5;241m.\u001b[39mpoll()\n\u001b[1;32m    570\u001b[0m     \u001b[38;5;28;01mif\u001b[39;00m check \u001b[38;5;129;01mand\u001b[39;00m retcode:\n\u001b[0;32m--> 571\u001b[0m         \u001b[38;5;28;01mraise\u001b[39;00m CalledProcessError(retcode, process\u001b[38;5;241m.\u001b[39margs,\n\u001b[1;32m    572\u001b[0m                                  output\u001b[38;5;241m=\u001b[39mstdout, stderr\u001b[38;5;241m=\u001b[39mstderr)\n\u001b[1;32m    573\u001b[0m \u001b[38;5;28;01mreturn\u001b[39;00m CompletedProcess(process\u001b[38;5;241m.\u001b[39margs, retcode, stdout, stderr)\n",
      "\u001b[0;31mCalledProcessError\u001b[0m: Command '['bcftools', 'reheader', PosixPath('../data/long_read_tmp/sample.longread_F138871.vcf.gz'), '-s', 'SAMPLE F138871', '-o', PosixPath('../data/long_read_tmp/vcf_1_compatible.vcf.gz')]' returned non-zero exit status 255."
     ]
    }
   ],
   "source": [
    "sample_rename = [\n",
    "    {\"SAMPLE\": \"F138871\"},\n",
    "    {\"SAMPLE\": \"F138872\"},\n",
    "]\n",
    "\n",
    "pp.vcf_merge(\n",
    "    DATA_PATH / \"sample.longread_F138871.vcf\", \n",
    "    DATA_PATH / \"sample.longread_F138872.vcf\", \n",
    "    sample_rename=sample_rename,\n",
    "    temp_dir=DATA_PATH / \"long_read_tmp/\"\n",
    ")"
   ]
  },
  {
   "cell_type": "code",
   "execution_count": null,
   "metadata": {},
   "outputs": [],
   "source": [
    "import os\n",
    "import tempfile\n",
    "\n",
    "outputs = [\"vcf_1_compatible.vcf.gz\", \"vcf_2_compatible.vcf.gz\"]\n",
    "\n",
    "vcf_1_path = DATA_PATH / \"long_read_tmp/sample.longread_F138871.vcf.gz\"\n",
    "vcf_2_path = DATA_PATH / \"long_read_tmp/sample.longread_F138872.vcf.gz\"\n",
    "temp_dir = DATA_PATH / \"long_read_tmp/\"\n",
    "\n",
    "for file_idx, vcf_path in enumerate([vcf_1_path, vcf_2_path]):\n",
    "    rename_args = \"\\n\".join(\n",
    "        [f\"{old_name} {new_name}\" for old_name, new_name in sample_rename[file_idx].items()]\n",
    "    )\n",
    "\n",
    "    \n",
    "    with open(temp_dir / \"sample_file.txt\", \"w\") as sample_file:\n",
    "        sample_file.write(rename_args)\n",
    "        sample_file.close()\n",
    "    \n",
    "\n",
    "    subprocess.run(\n",
    "        [\n",
    "            \"bcftools\",\n",
    "            \"reheader\",\n",
    "            vcf_path,\n",
    "            \"-s\",\n",
    "            sample_file.name,\n",
    "            \"-o\",\n",
    "            temp_dir / outputs[file_idx],\n",
    "        ],\n",
    "        check=True,\n",
    "    )\n",
    "\n",
    "    os.remove(sample_file)"
   ]
  },
  {
   "cell_type": "code",
   "execution_count": 11,
   "metadata": {},
   "outputs": [
    {
     "data": {
      "text/plain": [
       "'.gz'"
      ]
     },
     "execution_count": 11,
     "metadata": {},
     "output_type": "execute_result"
    }
   ],
   "source": [
    "(DATA_PATH / \"short_read_tmp/concat.vcf.gz\").suffix"
   ]
  },
  {
   "cell_type": "code",
   "execution_count": null,
   "metadata": {},
   "outputs": [],
   "source": [
    "len([elem.split(\"=\") for elem in data_concat.collect().head().select(\"INFO\").row(1)[0].split(\";\")])"
   ]
  },
  {
   "cell_type": "code",
   "execution_count": null,
   "metadata": {},
   "outputs": [],
   "source": [
    "metadata_longread, data_longread = pp.vcf_split(DATA_PATH / \"sample.longread_1.vcf\")"
   ]
  },
  {
   "cell_type": "code",
   "execution_count": null,
   "metadata": {},
   "outputs": [],
   "source": [
    "subprocess.run(\n",
    "    [\n",
    "        \"bcftools\",\n",
    "        \"head\",\n",
    "        DATA_PATH / \"sample.longread_1.vcf\",\n",
    "    ]\n",
    ")"
   ]
  }
 ],
 "metadata": {
  "kernelspec": {
   "display_name": ".venv",
   "language": "python",
   "name": "python3"
  },
  "language_info": {
   "codemirror_mode": {
    "name": "ipython",
    "version": 3
   },
   "file_extension": ".py",
   "mimetype": "text/x-python",
   "name": "python",
   "nbconvert_exporter": "python",
   "pygments_lexer": "ipython3",
   "version": "3.12.5"
  }
 },
 "nbformat": 4,
 "nbformat_minor": 2
}
