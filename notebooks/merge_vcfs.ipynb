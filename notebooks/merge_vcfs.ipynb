{
 "cells": [
  {
   "metadata": {
    "ExecuteTime": {
     "end_time": "2025-06-02T19:57:04.476684Z",
     "start_time": "2025-06-02T19:57:04.338142Z"
    }
   },
   "cell_type": "code",
   "source": "from src.workflow import combine_illumina_ont",
   "id": "4c5216418a8e0912",
   "outputs": [],
   "execution_count": 2
  },
  {
   "metadata": {
    "ExecuteTime": {
     "end_time": "2025-06-01T23:21:33.906335Z",
     "start_time": "2025-06-01T23:21:33.904681Z"
    }
   },
   "cell_type": "code",
   "source": "# filtered indels don't have variants without info for either the normal or tumor samples",
   "id": "6ef15f8a19cb2d40",
   "outputs": [],
   "execution_count": 2
  },
  {
   "metadata": {
    "ExecuteTime": {
     "end_time": "2025-06-01T23:22:49.707789Z",
     "start_time": "2025-06-01T23:21:34.032567Z"
    }
   },
   "cell_type": "code",
   "source": [
    "# POG054\n",
    "long_read_fn = \"/Users/christopherteng/github_repos/jones_lab/data/POG054/long_read.vcf.gz\"\n",
    "snv_fn = \"/Users/christopherteng/github_repos/jones_lab/data/POG054/P00056_P00055_intersect.snvs.vcf\"\n",
    "indel_fn = \"/Users/christopherteng/github_repos/jones_lab/data/POG054/indels.strelka.filtered.vcf\"\n",
    "\n",
    "combine_illumina_ont(\n",
    "    short_read_snv_fn=snv_fn,\n",
    "    short_read_indel_fn=indel_fn,\n",
    "    long_read_fn=long_read_fn,\n",
    "    normal_name=\"NORMAL\",\n",
    "    tumor_name=\"TUMOR\",\n",
    "    snv_fn_rename={\n",
    "        \"P00055\": \"NORMAL\",\n",
    "        \"P00056\": \"TUMOR\",\n",
    "    },\n",
    "    indel_fn_rename={\n",
    "        \"P00055\": \"NORMAL\",\n",
    "        \"P00056\": \"TUMOR\",\n",
    "    },\n",
    "    output_fn=\"merged_POG054.vcf\"\n",
    ")"
   ],
   "id": "7a567a64fc95770a",
   "outputs": [
    {
     "name": "stderr",
     "output_type": "stream",
     "text": [
      "[E::idx_find_and_load] Could not retrieve index file for '/Users/christopherteng/github_repos/jones_lab/data/POG054/long_read.vcf.gz'\n",
      "/Users/christopherteng/github_repos/jones_lab/src/vcf_processing/classes.py:134: UserWarning: The underlying VCF file for this VCF object is temporary. Setting a path for this object will not persist and there will be an attempt to clean up the new path /var/folders/l1/z2b3yks134g47dm_z392th7r0000gn/T/tmpijnct1gf on garbage collection.\n",
      "  warnings.warn(\n",
      "/Users/christopherteng/github_repos/jones_lab/src/vcf_processing/classes.py:134: UserWarning: The underlying VCF file for this VCF object is temporary. Setting a path for this object will not persist and there will be an attempt to clean up the new path /var/folders/l1/z2b3yks134g47dm_z392th7r0000gn/T/tmprn8sks6q on garbage collection.\n",
      "  warnings.warn(\n",
      "/Users/christopherteng/github_repos/jones_lab/src/vcf_processing/classes.py:134: UserWarning: The underlying VCF file for this VCF object is temporary. Setting a path for this object will not persist and there will be an attempt to clean up the new path /var/folders/l1/z2b3yks134g47dm_z392th7r0000gn/T/tmprn8sks6q.gz on garbage collection.\n",
      "  warnings.warn(\n",
      "/Users/christopherteng/github_repos/jones_lab/src/workflow.py:165: UserWarning: No duplicated variants found in the normal concatenated VCF, skipping deduplication.\n",
      "  warnings.warn(message=msg, category=UserWarning)\n",
      "/Users/christopherteng/github_repos/jones_lab/src/vcf_processing/classes.py:134: UserWarning: The underlying VCF file for this VCF object is temporary. Setting a path for this object will not persist and there will be an attempt to clean up the new path /var/folders/l1/z2b3yks134g47dm_z392th7r0000gn/T/tmpebvwrx74 on garbage collection.\n",
      "  warnings.warn(\n",
      "/Users/christopherteng/github_repos/jones_lab/src/vcf_processing/classes.py:134: UserWarning: The underlying VCF file for this VCF object is temporary. Setting a path for this object will not persist and there will be an attempt to clean up the new path /var/folders/l1/z2b3yks134g47dm_z392th7r0000gn/T/tmpebvwrx74.gz on garbage collection.\n",
      "  warnings.warn(\n"
     ]
    }
   ],
   "execution_count": 3
  },
  {
   "metadata": {
    "ExecuteTime": {
     "end_time": "2025-06-02T19:58:36.714986Z",
     "start_time": "2025-06-02T19:57:06.037843Z"
    }
   },
   "cell_type": "code",
   "source": [
    "# POG555\n",
    "long_read_fn = \"/Users/christopherteng/github_repos/jones_lab/data/POG555/long_read.vcf.gz\"\n",
    "snv_fn = \"/Users/christopherteng/github_repos/jones_lab/data/POG555/snvs.vcf\"\n",
    "indel_fn = \"/Users/christopherteng/github_repos/jones_lab/data/POG555/indels.strelka.filtered.vcf\"\n",
    "\n",
    "combine_illumina_ont(\n",
    "    short_read_snv_fn=snv_fn,\n",
    "    short_read_indel_fn=indel_fn,\n",
    "    long_read_fn=long_read_fn,\n",
    "    normal_name=\"NORMAL\",\n",
    "    tumor_name=\"TUMOR\",\n",
    "    snv_fn_rename={\n",
    "        \"P01522\": \"NORMAL\",\n",
    "        \"P01515\": \"TUMOR\",\n",
    "    },\n",
    "    indel_fn_rename={\n",
    "        \"P01522\": \"NORMAL\",\n",
    "        \"P01515\": \"TUMOR\",\n",
    "    },\n",
    "    long_read_fn_rename={\n",
    "        \"POG555-OCT-1\": \"TUMOR\"\n",
    "    },\n",
    "    output_fn=\"merged_POG555.vcf\"\n",
    ")"
   ],
   "id": "c9734dd29fd1b131",
   "outputs": [
    {
     "name": "stderr",
     "output_type": "stream",
     "text": [
      "[E::idx_find_and_load] Could not retrieve index file for '/Users/christopherteng/github_repos/jones_lab/data/POG555/long_read.vcf.gz'\n",
      "/Users/christopherteng/github_repos/jones_lab/src/vcf_processing/classes.py:134: UserWarning: The underlying VCF file for this VCF object is temporary. Setting a path for this object will not persist and there will be an attempt to clean up the new path /var/folders/l1/z2b3yks134g47dm_z392th7r0000gn/T/tmp4dm118rb on garbage collection.\n",
      "  warnings.warn(\n",
      "/Users/christopherteng/github_repos/jones_lab/src/vcf_processing/classes.py:134: UserWarning: The underlying VCF file for this VCF object is temporary. Setting a path for this object will not persist and there will be an attempt to clean up the new path /var/folders/l1/z2b3yks134g47dm_z392th7r0000gn/T/tmpcob9isqa on garbage collection.\n",
      "  warnings.warn(\n",
      "/Users/christopherteng/github_repos/jones_lab/src/vcf_processing/classes.py:134: UserWarning: The underlying VCF file for this VCF object is temporary. Setting a path for this object will not persist and there will be an attempt to clean up the new path /var/folders/l1/z2b3yks134g47dm_z392th7r0000gn/T/tmpcob9isqa.gz on garbage collection.\n",
      "  warnings.warn(\n",
      "/Users/christopherteng/github_repos/jones_lab/src/workflow.py:165: UserWarning: No duplicated variants found in the normal concatenated VCF, skipping deduplication.\n",
      "  warnings.warn(message=msg, category=UserWarning)\n",
      "/Users/christopherteng/github_repos/jones_lab/src/vcf_processing/classes.py:134: UserWarning: The underlying VCF file for this VCF object is temporary. Setting a path for this object will not persist and there will be an attempt to clean up the new path /var/folders/l1/z2b3yks134g47dm_z392th7r0000gn/T/tmp_5yzqfwl on garbage collection.\n",
      "  warnings.warn(\n",
      "/Users/christopherteng/github_repos/jones_lab/src/vcf_processing/classes.py:134: UserWarning: The underlying VCF file for this VCF object is temporary. Setting a path for this object will not persist and there will be an attempt to clean up the new path /var/folders/l1/z2b3yks134g47dm_z392th7r0000gn/T/tmp_5yzqfwl.gz on garbage collection.\n",
      "  warnings.warn(\n"
     ]
    }
   ],
   "execution_count": 3
  },
  {
   "metadata": {
    "ExecuteTime": {
     "end_time": "2025-06-01T23:24:20.385469Z",
     "start_time": "2025-06-01T23:23:00.971946Z"
    }
   },
   "cell_type": "code",
   "source": [
    "# POG710\n",
    "long_read_fn = \"/Users/christopherteng/github_repos/jones_lab/data/POG710/long_read.vcf.gz\"\n",
    "snv_fn = \"/Users/christopherteng/github_repos/jones_lab/data/POG710/snvs.vcf\"\n",
    "indel_fn = \"/Users/christopherteng/github_repos/jones_lab/data/POG710/indels.strelka.filtered.vcf\"\n",
    "\n",
    "combine_illumina_ont(\n",
    "    short_read_snv_fn=snv_fn,\n",
    "    short_read_indel_fn=indel_fn,\n",
    "    long_read_fn=long_read_fn,\n",
    "    normal_name=\"NORMAL\",\n",
    "    tumor_name=\"TUMOR\",\n",
    "    snv_fn_rename={\n",
    "        \"P01927\": \"NORMAL\",\n",
    "        \"P01918\": \"TUMOR\",\n",
    "    },\n",
    "    indel_fn_rename={\n",
    "        \"P01927\": \"NORMAL\",\n",
    "        \"P01918\": \"TUMOR\",\n",
    "    },\n",
    "    output_fn=\"merged_POG710.vcf\"\n",
    ")"
   ],
   "id": "b2b220b484651baa",
   "outputs": [
    {
     "name": "stderr",
     "output_type": "stream",
     "text": [
      "[E::idx_find_and_load] Could not retrieve index file for '/Users/christopherteng/github_repos/jones_lab/data/POG710/long_read.vcf.gz'\n",
      "/Users/christopherteng/github_repos/jones_lab/src/vcf_processing/classes.py:134: UserWarning: The underlying VCF file for this VCF object is temporary. Setting a path for this object will not persist and there will be an attempt to clean up the new path /var/folders/l1/z2b3yks134g47dm_z392th7r0000gn/T/tmps5j2bbfc on garbage collection.\n",
      "  warnings.warn(\n",
      "/Users/christopherteng/github_repos/jones_lab/src/vcf_processing/classes.py:134: UserWarning: The underlying VCF file for this VCF object is temporary. Setting a path for this object will not persist and there will be an attempt to clean up the new path /var/folders/l1/z2b3yks134g47dm_z392th7r0000gn/T/tmp7wcuxyqw on garbage collection.\n",
      "  warnings.warn(\n",
      "/Users/christopherteng/github_repos/jones_lab/src/vcf_processing/classes.py:134: UserWarning: The underlying VCF file for this VCF object is temporary. Setting a path for this object will not persist and there will be an attempt to clean up the new path /var/folders/l1/z2b3yks134g47dm_z392th7r0000gn/T/tmp7wcuxyqw.gz on garbage collection.\n",
      "  warnings.warn(\n",
      "/Users/christopherteng/github_repos/jones_lab/src/workflow.py:165: UserWarning: No duplicated variants found in the normal concatenated VCF, skipping deduplication.\n",
      "  warnings.warn(message=msg, category=UserWarning)\n",
      "/Users/christopherteng/github_repos/jones_lab/src/vcf_processing/classes.py:134: UserWarning: The underlying VCF file for this VCF object is temporary. Setting a path for this object will not persist and there will be an attempt to clean up the new path /var/folders/l1/z2b3yks134g47dm_z392th7r0000gn/T/tmpu4k1lhi0 on garbage collection.\n",
      "  warnings.warn(\n",
      "/Users/christopherteng/github_repos/jones_lab/src/vcf_processing/classes.py:134: UserWarning: The underlying VCF file for this VCF object is temporary. Setting a path for this object will not persist and there will be an attempt to clean up the new path /var/folders/l1/z2b3yks134g47dm_z392th7r0000gn/T/tmpu4k1lhi0.gz on garbage collection.\n",
      "  warnings.warn(\n"
     ]
    }
   ],
   "execution_count": 5
  },
  {
   "metadata": {
    "ExecuteTime": {
     "end_time": "2025-06-01T23:25:38.785126Z",
     "start_time": "2025-06-01T23:24:20.426784Z"
    }
   },
   "cell_type": "code",
   "source": [
    "# POG751\n",
    "long_read_fn = \"/Users/christopherteng/github_repos/jones_lab/data/POG751/long_read.vcf.gz\"\n",
    "snv_fn = \"/Users/christopherteng/github_repos/jones_lab/data/POG751/P02082_P02074_intersect.snvs.vcf\"\n",
    "indel_fn = \"/Users/christopherteng/github_repos/jones_lab/data/POG751/indels.strelka.filtered.vcf\"\n",
    "\n",
    "combine_illumina_ont(\n",
    "    short_read_snv_fn=snv_fn,\n",
    "    short_read_indel_fn=indel_fn,\n",
    "    long_read_fn=long_read_fn,\n",
    "    normal_name=\"NORMAL\",\n",
    "    tumor_name=\"TUMOR\",\n",
    "    snv_fn_rename={\n",
    "        \"P02074\": \"NORMAL\",\n",
    "        \"P02082\": \"TUMOR\",\n",
    "    },\n",
    "    indel_fn_rename={\n",
    "        \"P02074\": \"NORMAL\",\n",
    "        \"P02082\": \"TUMOR\",\n",
    "    },\n",
    "    output_fn=\"merged_POG751.vcf\"\n",
    ")"
   ],
   "id": "77fd7bc3689e597f",
   "outputs": [
    {
     "name": "stderr",
     "output_type": "stream",
     "text": [
      "[E::idx_find_and_load] Could not retrieve index file for '/Users/christopherteng/github_repos/jones_lab/data/POG751/long_read.vcf.gz'\n",
      "/Users/christopherteng/github_repos/jones_lab/src/vcf_processing/classes.py:134: UserWarning: The underlying VCF file for this VCF object is temporary. Setting a path for this object will not persist and there will be an attempt to clean up the new path /var/folders/l1/z2b3yks134g47dm_z392th7r0000gn/T/tmpuyy0mfo0 on garbage collection.\n",
      "  warnings.warn(\n",
      "/Users/christopherteng/github_repos/jones_lab/src/vcf_processing/classes.py:134: UserWarning: The underlying VCF file for this VCF object is temporary. Setting a path for this object will not persist and there will be an attempt to clean up the new path /var/folders/l1/z2b3yks134g47dm_z392th7r0000gn/T/tmph4uyyldj on garbage collection.\n",
      "  warnings.warn(\n",
      "/Users/christopherteng/github_repos/jones_lab/src/vcf_processing/classes.py:134: UserWarning: The underlying VCF file for this VCF object is temporary. Setting a path for this object will not persist and there will be an attempt to clean up the new path /var/folders/l1/z2b3yks134g47dm_z392th7r0000gn/T/tmph4uyyldj.gz on garbage collection.\n",
      "  warnings.warn(\n",
      "/Users/christopherteng/github_repos/jones_lab/src/workflow.py:165: UserWarning: No duplicated variants found in the normal concatenated VCF, skipping deduplication.\n",
      "  warnings.warn(message=msg, category=UserWarning)\n",
      "/Users/christopherteng/github_repos/jones_lab/src/vcf_processing/classes.py:134: UserWarning: The underlying VCF file for this VCF object is temporary. Setting a path for this object will not persist and there will be an attempt to clean up the new path /var/folders/l1/z2b3yks134g47dm_z392th7r0000gn/T/tmpya85y8kz on garbage collection.\n",
      "  warnings.warn(\n",
      "/Users/christopherteng/github_repos/jones_lab/src/vcf_processing/classes.py:134: UserWarning: The underlying VCF file for this VCF object is temporary. Setting a path for this object will not persist and there will be an attempt to clean up the new path /var/folders/l1/z2b3yks134g47dm_z392th7r0000gn/T/tmpya85y8kz.gz on garbage collection.\n",
      "  warnings.warn(\n"
     ]
    }
   ],
   "execution_count": 6
  },
  {
   "metadata": {
    "ExecuteTime": {
     "end_time": "2025-06-01T23:26:52.284748Z",
     "start_time": "2025-06-01T23:25:38.839872Z"
    }
   },
   "cell_type": "code",
   "source": [
    "# POG778\n",
    "long_read_fn = \"/Users/christopherteng/github_repos/jones_lab/data/POG778/long_read.vcf.gz\"\n",
    "snv_fn = \"/Users/christopherteng/github_repos/jones_lab/data/POG778/P02119_P02107_intersect.snvs.vcf\"\n",
    "indel_fn = \"/Users/christopherteng/github_repos/jones_lab/data/POG778/indels.strelka.filtered.vcf\"\n",
    "\n",
    "combine_illumina_ont(\n",
    "    short_read_snv_fn=snv_fn,\n",
    "    short_read_indel_fn=indel_fn,\n",
    "    long_read_fn=long_read_fn,\n",
    "    normal_name=\"NORMAL\",\n",
    "    tumor_name=\"TUMOR\",\n",
    "    snv_fn_rename={\n",
    "        \"P02107\": \"NORMAL\",\n",
    "        \"P02119\": \"TUMOR\",\n",
    "    },\n",
    "    indel_fn_rename={\n",
    "        \"P02107\": \"NORMAL\",\n",
    "        \"P02119\": \"TUMOR\",\n",
    "    },\n",
    "    output_fn=\"merged_POG778.vcf\"\n",
    ")"
   ],
   "id": "da41f5ea66c25fa5",
   "outputs": [
    {
     "name": "stderr",
     "output_type": "stream",
     "text": [
      "[E::idx_find_and_load] Could not retrieve index file for '/Users/christopherteng/github_repos/jones_lab/data/POG778/long_read.vcf.gz'\n",
      "/Users/christopherteng/github_repos/jones_lab/src/vcf_processing/classes.py:134: UserWarning: The underlying VCF file for this VCF object is temporary. Setting a path for this object will not persist and there will be an attempt to clean up the new path /var/folders/l1/z2b3yks134g47dm_z392th7r0000gn/T/tmpz70tu4rs on garbage collection.\n",
      "  warnings.warn(\n",
      "/Users/christopherteng/github_repos/jones_lab/src/vcf_processing/classes.py:134: UserWarning: The underlying VCF file for this VCF object is temporary. Setting a path for this object will not persist and there will be an attempt to clean up the new path /var/folders/l1/z2b3yks134g47dm_z392th7r0000gn/T/tmpg5icvj60 on garbage collection.\n",
      "  warnings.warn(\n",
      "/Users/christopherteng/github_repos/jones_lab/src/vcf_processing/classes.py:134: UserWarning: The underlying VCF file for this VCF object is temporary. Setting a path for this object will not persist and there will be an attempt to clean up the new path /var/folders/l1/z2b3yks134g47dm_z392th7r0000gn/T/tmpg5icvj60.gz on garbage collection.\n",
      "  warnings.warn(\n",
      "/Users/christopherteng/github_repos/jones_lab/src/workflow.py:165: UserWarning: No duplicated variants found in the normal concatenated VCF, skipping deduplication.\n",
      "  warnings.warn(message=msg, category=UserWarning)\n",
      "/Users/christopherteng/github_repos/jones_lab/src/vcf_processing/classes.py:134: UserWarning: The underlying VCF file for this VCF object is temporary. Setting a path for this object will not persist and there will be an attempt to clean up the new path /var/folders/l1/z2b3yks134g47dm_z392th7r0000gn/T/tmp9g_s6gfd on garbage collection.\n",
      "  warnings.warn(\n",
      "/Users/christopherteng/github_repos/jones_lab/src/vcf_processing/classes.py:134: UserWarning: The underlying VCF file for this VCF object is temporary. Setting a path for this object will not persist and there will be an attempt to clean up the new path /var/folders/l1/z2b3yks134g47dm_z392th7r0000gn/T/tmp9g_s6gfd.gz on garbage collection.\n",
      "  warnings.warn(\n"
     ]
    }
   ],
   "execution_count": 7
  },
  {
   "metadata": {
    "ExecuteTime": {
     "end_time": "2025-06-01T23:28:12.693635Z",
     "start_time": "2025-06-01T23:26:52.330908Z"
    }
   },
   "cell_type": "code",
   "source": [
    "# POG819\n",
    "long_read_fn = \"/Users/christopherteng/github_repos/jones_lab/data/POG819/long_read.vcf.gz\"\n",
    "snv_fn = \"/Users/christopherteng/github_repos/jones_lab/data/POG819/P02221_P02195_intersect.snvs.vcf\"\n",
    "indel_fn = \"/Users/christopherteng/github_repos/jones_lab/data/POG819/indels.strelka.filtered.vcf\"\n",
    "\n",
    "combine_illumina_ont(\n",
    "    short_read_snv_fn=snv_fn,\n",
    "    short_read_indel_fn=indel_fn,\n",
    "    long_read_fn=long_read_fn,\n",
    "    normal_name=\"NORMAL\",\n",
    "    tumor_name=\"TUMOR\",\n",
    "    snv_fn_rename={\n",
    "        \"P02195\": \"NORMAL\",\n",
    "        \"P02221\": \"TUMOR\",\n",
    "    },\n",
    "    indel_fn_rename={\n",
    "        \"P02195\": \"NORMAL\",\n",
    "        \"P02221\": \"TUMOR\",\n",
    "    },\n",
    "    output_fn=\"merged_POG819.vcf\"\n",
    ")"
   ],
   "id": "aecaaa5f681e29d1",
   "outputs": [
    {
     "name": "stderr",
     "output_type": "stream",
     "text": [
      "[E::idx_find_and_load] Could not retrieve index file for '/Users/christopherteng/github_repos/jones_lab/data/POG819/long_read.vcf.gz'\n",
      "/Users/christopherteng/github_repos/jones_lab/src/vcf_processing/classes.py:134: UserWarning: The underlying VCF file for this VCF object is temporary. Setting a path for this object will not persist and there will be an attempt to clean up the new path /var/folders/l1/z2b3yks134g47dm_z392th7r0000gn/T/tmprs3xj5sq on garbage collection.\n",
      "  warnings.warn(\n",
      "/Users/christopherteng/github_repos/jones_lab/src/vcf_processing/classes.py:134: UserWarning: The underlying VCF file for this VCF object is temporary. Setting a path for this object will not persist and there will be an attempt to clean up the new path /var/folders/l1/z2b3yks134g47dm_z392th7r0000gn/T/tmpbfoisf9d on garbage collection.\n",
      "  warnings.warn(\n",
      "/Users/christopherteng/github_repos/jones_lab/src/vcf_processing/classes.py:134: UserWarning: The underlying VCF file for this VCF object is temporary. Setting a path for this object will not persist and there will be an attempt to clean up the new path /var/folders/l1/z2b3yks134g47dm_z392th7r0000gn/T/tmpbfoisf9d.gz on garbage collection.\n",
      "  warnings.warn(\n",
      "/Users/christopherteng/github_repos/jones_lab/src/workflow.py:165: UserWarning: No duplicated variants found in the normal concatenated VCF, skipping deduplication.\n",
      "  warnings.warn(message=msg, category=UserWarning)\n",
      "/Users/christopherteng/github_repos/jones_lab/src/vcf_processing/classes.py:134: UserWarning: The underlying VCF file for this VCF object is temporary. Setting a path for this object will not persist and there will be an attempt to clean up the new path /var/folders/l1/z2b3yks134g47dm_z392th7r0000gn/T/tmp0j5ajnoy on garbage collection.\n",
      "  warnings.warn(\n",
      "/Users/christopherteng/github_repos/jones_lab/src/vcf_processing/classes.py:134: UserWarning: The underlying VCF file for this VCF object is temporary. Setting a path for this object will not persist and there will be an attempt to clean up the new path /var/folders/l1/z2b3yks134g47dm_z392th7r0000gn/T/tmp0j5ajnoy.gz on garbage collection.\n",
      "  warnings.warn(\n"
     ]
    }
   ],
   "execution_count": 8
  },
  {
   "cell_type": "code",
   "id": "initial_id",
   "metadata": {
    "collapsed": true,
    "ExecuteTime": {
     "end_time": "2025-06-01T23:29:25.448304Z",
     "start_time": "2025-06-01T23:28:12.734137Z"
    }
   },
   "source": [
    "# POG960\n",
    "from src.workflow import combine_illumina_ont\n",
    "\n",
    "long_read_fn = \"/Users/christopherteng/github_repos/jones_lab/data/POG960/long_read.vcf.gz\"\n",
    "snv_fn = \"/Users/christopherteng/github_repos/jones_lab/data/POG960/P02919_P02589_intersect.snvs.vcf\"\n",
    "indel_fn = \"/Users/christopherteng/github_repos/jones_lab/data/POG960/indels.strelka.filtered.vcf.gz\"\n",
    "\n",
    "combine_illumina_ont(\n",
    "    short_read_snv_fn=snv_fn,\n",
    "    short_read_indel_fn=indel_fn,\n",
    "    long_read_fn=long_read_fn,\n",
    "    normal_name=\"NORMAL\",\n",
    "    tumor_name=\"TUMOR\",\n",
    "    snv_fn_rename={\n",
    "        \"P02589\": \"NORMAL\",\n",
    "        \"P02919\": \"TUMOR\",\n",
    "    },\n",
    "    indel_fn_rename={\n",
    "        \"P02589\": \"NORMAL\",\n",
    "        \"P02919\": \"TUMOR\",\n",
    "    },\n",
    "    output_fn=\"merged_POG960.vcf\"\n",
    ")"
   ],
   "outputs": [
    {
     "name": "stderr",
     "output_type": "stream",
     "text": [
      "/Users/christopherteng/github_repos/jones_lab/src/vcf_processing/classes.py:134: UserWarning: The underlying VCF file for this VCF object is temporary. Setting a path for this object will not persist and there will be an attempt to clean up the new path /var/folders/l1/z2b3yks134g47dm_z392th7r0000gn/T/tmp7x5xtbi8 on garbage collection.\n",
      "  warnings.warn(\n",
      "/Users/christopherteng/github_repos/jones_lab/src/vcf_processing/classes.py:134: UserWarning: The underlying VCF file for this VCF object is temporary. Setting a path for this object will not persist and there will be an attempt to clean up the new path /var/folders/l1/z2b3yks134g47dm_z392th7r0000gn/T/tmpqaoy4agt on garbage collection.\n",
      "  warnings.warn(\n",
      "/Users/christopherteng/github_repos/jones_lab/src/vcf_processing/classes.py:134: UserWarning: The underlying VCF file for this VCF object is temporary. Setting a path for this object will not persist and there will be an attempt to clean up the new path /var/folders/l1/z2b3yks134g47dm_z392th7r0000gn/T/tmpqaoy4agt.gz on garbage collection.\n",
      "  warnings.warn(\n",
      "/Users/christopherteng/github_repos/jones_lab/src/workflow.py:165: UserWarning: No duplicated variants found in the normal concatenated VCF, skipping deduplication.\n",
      "  warnings.warn(message=msg, category=UserWarning)\n",
      "/Users/christopherteng/github_repos/jones_lab/src/vcf_processing/classes.py:134: UserWarning: The underlying VCF file for this VCF object is temporary. Setting a path for this object will not persist and there will be an attempt to clean up the new path /var/folders/l1/z2b3yks134g47dm_z392th7r0000gn/T/tmpk8a_7372 on garbage collection.\n",
      "  warnings.warn(\n",
      "/Users/christopherteng/github_repos/jones_lab/src/vcf_processing/classes.py:134: UserWarning: The underlying VCF file for this VCF object is temporary. Setting a path for this object will not persist and there will be an attempt to clean up the new path /var/folders/l1/z2b3yks134g47dm_z392th7r0000gn/T/tmpk8a_7372.gz on garbage collection.\n",
      "  warnings.warn(\n"
     ]
    }
   ],
   "execution_count": 9
  },
  {
   "metadata": {
    "ExecuteTime": {
     "end_time": "2025-06-01T23:30:42.801687Z",
     "start_time": "2025-06-01T23:29:25.501803Z"
    }
   },
   "cell_type": "code",
   "source": [
    "# POG1008\n",
    "long_read_fn = \"/Users/christopherteng/github_repos/jones_lab/data/POG1008/long_read.vcf.gz\"\n",
    "snv_fn = \"/Users/christopherteng/github_repos/jones_lab/data/POG1008/snvs.vcf\"\n",
    "indel_fn = \"/Users/christopherteng/github_repos/jones_lab/data/POG1008/indels.strelka.filtered.vcf\"\n",
    "\n",
    "combine_illumina_ont(\n",
    "    short_read_snv_fn=snv_fn,\n",
    "    short_read_indel_fn=indel_fn,\n",
    "    long_read_fn=long_read_fn,\n",
    "    normal_name=\"NORMAL\",\n",
    "    tumor_name=\"TUMOR\",\n",
    "    snv_fn_rename={\n",
    "        \"P02788\": \"NORMAL\",\n",
    "        \"P02786\": \"TUMOR\",\n",
    "    },\n",
    "    indel_fn_rename={\n",
    "        \"P02788\": \"NORMAL\",\n",
    "        \"P02786\": \"TUMOR\",\n",
    "    },\n",
    "    output_fn=\"merged_POG1008.vcf\"\n",
    ")"
   ],
   "id": "2a2f95ecda3dc7ac",
   "outputs": [
    {
     "name": "stderr",
     "output_type": "stream",
     "text": [
      "[E::idx_find_and_load] Could not retrieve index file for '/Users/christopherteng/github_repos/jones_lab/data/POG1008/long_read.vcf.gz'\n",
      "/Users/christopherteng/github_repos/jones_lab/src/vcf_processing/classes.py:134: UserWarning: The underlying VCF file for this VCF object is temporary. Setting a path for this object will not persist and there will be an attempt to clean up the new path /var/folders/l1/z2b3yks134g47dm_z392th7r0000gn/T/tmpvtl602p2 on garbage collection.\n",
      "  warnings.warn(\n",
      "/Users/christopherteng/github_repos/jones_lab/src/vcf_processing/classes.py:134: UserWarning: The underlying VCF file for this VCF object is temporary. Setting a path for this object will not persist and there will be an attempt to clean up the new path /var/folders/l1/z2b3yks134g47dm_z392th7r0000gn/T/tmpa3bpjk2m on garbage collection.\n",
      "  warnings.warn(\n",
      "/Users/christopherteng/github_repos/jones_lab/src/vcf_processing/classes.py:134: UserWarning: The underlying VCF file for this VCF object is temporary. Setting a path for this object will not persist and there will be an attempt to clean up the new path /var/folders/l1/z2b3yks134g47dm_z392th7r0000gn/T/tmpa3bpjk2m.gz on garbage collection.\n",
      "  warnings.warn(\n",
      "/Users/christopherteng/github_repos/jones_lab/src/workflow.py:165: UserWarning: No duplicated variants found in the normal concatenated VCF, skipping deduplication.\n",
      "  warnings.warn(message=msg, category=UserWarning)\n",
      "/Users/christopherteng/github_repos/jones_lab/src/vcf_processing/classes.py:134: UserWarning: The underlying VCF file for this VCF object is temporary. Setting a path for this object will not persist and there will be an attempt to clean up the new path /var/folders/l1/z2b3yks134g47dm_z392th7r0000gn/T/tmplohltb4o on garbage collection.\n",
      "  warnings.warn(\n",
      "/Users/christopherteng/github_repos/jones_lab/src/vcf_processing/classes.py:134: UserWarning: The underlying VCF file for this VCF object is temporary. Setting a path for this object will not persist and there will be an attempt to clean up the new path /var/folders/l1/z2b3yks134g47dm_z392th7r0000gn/T/tmplohltb4o.gz on garbage collection.\n",
      "  warnings.warn(\n"
     ]
    }
   ],
   "execution_count": 10
  },
  {
   "metadata": {
    "ExecuteTime": {
     "end_time": "2025-06-02T21:24:58.503987Z",
     "start_time": "2025-06-02T21:24:30.075694Z"
    }
   },
   "cell_type": "code",
   "source": [
    "from src.vcf_processing.parse import read_vcf\n",
    "from src.vcf_processing.preprocessing import filter_no_genotype\n",
    "\n",
    "for fn in [\"merged_POG054.vcf\", \"merged_POG555.vcf\", \"merged_POG710.vcf\", \"merged_POG751.vcf\", \"merged_POG778.vcf\", \"merged_POG819.vcf\", \"merged_POG960.vcf\", \"merged_POG1008.vcf\"]:\n",
    "    vcf = read_vcf(fn)\n",
    "    filter_no_genotype(vcf)"
   ],
   "id": "1c5f308b0979ff9a",
   "outputs": [
    {
     "name": "stderr",
     "output_type": "stream",
     "text": [
      "/Users/christopherteng/github_repos/jones_lab/src/vcf_processing/classes.py:134: UserWarning: The underlying VCF file for this VCF object is temporary. Setting a path for this object will not persist and there will be an attempt to clean up the new path /var/folders/l1/z2b3yks134g47dm_z392th7r0000gn/T/tmpdc88wrr6 on garbage collection.\n",
      "  warnings.warn(\n",
      "/Users/christopherteng/github_repos/jones_lab/src/vcf_processing/classes.py:134: UserWarning: The underlying VCF file for this VCF object is temporary. Setting a path for this object will not persist and there will be an attempt to clean up the new path /var/folders/l1/z2b3yks134g47dm_z392th7r0000gn/T/tmp7g6s2a05 on garbage collection.\n",
      "  warnings.warn(\n",
      "/Users/christopherteng/github_repos/jones_lab/src/vcf_processing/classes.py:134: UserWarning: The underlying VCF file for this VCF object is temporary. Setting a path for this object will not persist and there will be an attempt to clean up the new path /var/folders/l1/z2b3yks134g47dm_z392th7r0000gn/T/tmpsoznh9il on garbage collection.\n",
      "  warnings.warn(\n",
      "/Users/christopherteng/github_repos/jones_lab/src/vcf_processing/classes.py:134: UserWarning: The underlying VCF file for this VCF object is temporary. Setting a path for this object will not persist and there will be an attempt to clean up the new path /var/folders/l1/z2b3yks134g47dm_z392th7r0000gn/T/tmp3ehfa0y4 on garbage collection.\n",
      "  warnings.warn(\n",
      "/Users/christopherteng/github_repos/jones_lab/src/vcf_processing/classes.py:134: UserWarning: The underlying VCF file for this VCF object is temporary. Setting a path for this object will not persist and there will be an attempt to clean up the new path /var/folders/l1/z2b3yks134g47dm_z392th7r0000gn/T/tmp_mpv7k47 on garbage collection.\n",
      "  warnings.warn(\n",
      "/Users/christopherteng/github_repos/jones_lab/src/vcf_processing/classes.py:134: UserWarning: The underlying VCF file for this VCF object is temporary. Setting a path for this object will not persist and there will be an attempt to clean up the new path /var/folders/l1/z2b3yks134g47dm_z392th7r0000gn/T/tmp1iqpl8x1 on garbage collection.\n",
      "  warnings.warn(\n",
      "/Users/christopherteng/github_repos/jones_lab/src/vcf_processing/classes.py:134: UserWarning: The underlying VCF file for this VCF object is temporary. Setting a path for this object will not persist and there will be an attempt to clean up the new path /var/folders/l1/z2b3yks134g47dm_z392th7r0000gn/T/tmp7r8ymmex on garbage collection.\n",
      "  warnings.warn(\n",
      "/Users/christopherteng/github_repos/jones_lab/src/vcf_processing/classes.py:134: UserWarning: The underlying VCF file for this VCF object is temporary. Setting a path for this object will not persist and there will be an attempt to clean up the new path /var/folders/l1/z2b3yks134g47dm_z392th7r0000gn/T/tmpk682d1ug on garbage collection.\n",
      "  warnings.warn(\n"
     ]
    }
   ],
   "execution_count": 1
  },
  {
   "metadata": {},
   "cell_type": "code",
   "outputs": [],
   "execution_count": null,
   "source": "",
   "id": "20aaa283a749bfb8"
  }
 ],
 "metadata": {
  "kernelspec": {
   "display_name": "Python 3",
   "language": "python",
   "name": "python3"
  },
  "language_info": {
   "codemirror_mode": {
    "name": "ipython",
    "version": 2
   },
   "file_extension": ".py",
   "mimetype": "text/x-python",
   "name": "python",
   "nbconvert_exporter": "python",
   "pygments_lexer": "ipython2",
   "version": "2.7.6"
  }
 },
 "nbformat": 4,
 "nbformat_minor": 5
}
